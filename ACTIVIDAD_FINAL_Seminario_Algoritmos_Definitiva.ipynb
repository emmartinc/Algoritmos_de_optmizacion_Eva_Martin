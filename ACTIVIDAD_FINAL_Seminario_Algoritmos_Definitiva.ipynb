{
 "cells": [
  {
   "cell_type": "markdown",
   "metadata": {
    "id": "hVbXYX-RfPWh"
   },
   "source": [
    "# Algoritmos de optimización - Seminario<br>\n",
    "\n",
    "Nombre y Apellidos:         Eva Maria Martin Cruz\n",
    "\n",
    "Url: https://github.com/emmartinc/Algoritmos_de_optmizacion_Eva_Martin/ACTIVIDAD_FINAL_Seminario_Algoritmos_Definitiva.ipynb<br>\n",
    "\n",
    "Problema:\n",
    "## 1. Sesiones de doblaje <br>\n",
    "                                        "
   ]
  },
  {
   "cell_type": "markdown",
   "metadata": {},
   "source": [
    "Se precisa coordinar el doblaje de una película. \n",
    "\n",
    "Los actores del doblaje deben coincidir en las\n",
    "tomas en las que sus personajes aparecen juntos en las diferentes tomas. \n",
    "\n",
    "Los actores de\n",
    "doblaje cobran todos la misma cantidad por cada día que deben desplazarse hasta el estudio de\n",
    "grabación independientemente del número de tomas que se graben. \n",
    "\n",
    "No es posible grabar más\n",
    "de 6 tomas por día. \n",
    "\n",
    "El objetivo es planificar las sesiones por día de manera que el gasto por los\n",
    "servicios de los actores de doblaje sea el menor posible. \n",
    "\n",
    "Los datos son:\n",
    "\n",
    "Número de actores: 10\n",
    "\n",
    "Número de tomas : 30\n",
    "\n",
    "Actores/Tomas : https://bit.ly/36D8IuK\n",
    "- 1 indica que el actor participa en la toma\n",
    "- 0 en caso contrario"
   ]
  },
  {
   "cell_type": "markdown",
   "metadata": {
    "id": "3_-exlrTgLd-"
   },
   "source": [
    "## ¿Cuantas posibilidades hay sin tener en cuenta las restricciones?\n"
   ]
  },
  {
   "cell_type": "markdown",
   "metadata": {
    "id": "WfCUqJyKhPcw"
   },
   "source": [
    "Respuesta"
   ]
  },
  {
   "cell_type": "markdown",
   "metadata": {},
   "source": [
    "Para calcular cuántas posibilidades hay sin tener en cuenta las restricciones, necesitamos contar todas las posibles formas de asignar las 30 tomas a cualquier número de días. \n",
    "Esto va desde realizar las 30 tomas todas el mismo dia, hasta realizar una toma diaria, pasando por: rodar cada dia 15 tomas y ahcerlo en 2 días, rodar cada dia 5 tomas y hacerlo en 6 días...\n",
    "todo esto representa en definitiva todos los conjuntos que podemos hacer con 30 elementos: 2^30\n"
   ]
  },
  {
   "cell_type": "code",
   "execution_count": 1,
   "metadata": {},
   "outputs": [],
   "source": [
    "#Zona de imports - agrupamos todas las libreria necesarias arriba del todo para tenerlas importadas a lo largo del problema.\n",
    "import pandas as pd\n",
    "import math\n",
    "import numpy as np\n",
    "import random\n"
   ]
  },
  {
   "cell_type": "code",
   "execution_count": 3,
   "metadata": {},
   "outputs": [],
   "source": [
    "# Datos del problema\n",
    "\n",
    "# NUMERO DE TOMAS\n",
    "num_tomas = 30\n",
    "\n",
    "# NUMERO DE ACTORES\n",
    "num_actores = 10\n",
    "\n",
    "#MAXIMO NUMERO DE TOMAS POR DIA\n",
    "max_tomas_por_dia = 6\n",
    "\n",
    "# archivo Excel\n",
    "archivo_excel = 'Datos problema.xlsx'"
   ]
  },
  {
   "cell_type": "code",
   "execution_count": 4,
   "metadata": {},
   "outputs": [
    {
     "name": "stdout",
     "output_type": "stream",
     "text": [
      "El número de posibilidades sin tener en cuenta las restricciones es: 1073741824\n"
     ]
    }
   ],
   "source": [
    "# Calcular 2 ^30\n",
    "posibilidades_sin_restricciones = pow(2, num_tomas)\n",
    "\n",
    "print(f\"El número de posibilidades sin tener en cuenta las restricciones es: {posibilidades_sin_restricciones}\")\n"
   ]
  },
  {
   "cell_type": "markdown",
   "metadata": {},
   "source": [
    "Se trata de un número enorme, por lo que nos podemos dar cuenta del número masivo de combinaciones posibles sin restricciones.\n",
    "\n",
    "Aunque realmente, para el objetivo de nuestro problema, el que no haya restricciones lo que significaria es que se pueden hacer las 30 tomas en 1 solo día con todos los actores presentes, con lo que el coste sería el mínimo posible.\n",
    "\n",
    "Es decir, me parece resaltable darnos cuenta de que el orden de las tomas dentro del mismo dia no importa.\n"
   ]
  },
  {
   "cell_type": "markdown",
   "metadata": {},
   "source": [
    "## ¿Cuántas posibilidades hay teniendo en cuenta todas las restricciones?\n",
    "\n",
    "Para calcular las posibilidades teniendo en cuenta todas las restricciones,\n",
    "empezamos con la primera y vamos añadiendo complejidad.\n",
    "\n",
    "Consideramos que la primera restricción del problema es que no es posible grabar más de 6 tomas por día.\n",
    "\n",
    "Ahí ya estariamos eliminando todos los conjuntos superiores a 6 "
   ]
  },
  {
   "cell_type": "code",
   "execution_count": 5,
   "metadata": {},
   "outputs": [
    {
     "name": "stdout",
     "output_type": "stream",
     "text": [
      "El número de combinaciones posibles es: 768211\n"
     ]
    }
   ],
   "source": [
    "# Calculamos la combinación\n",
    "\n",
    "combinaciones = 0\n",
    "for i in range(1, 7):  # Iteramos sobre los valores de i desde 1 hasta 6\n",
    "    combinaciones += math.comb(num_tomas, i)  # Sumamos la combinación de i elementos tomados max_tomas_dia a la vez\n",
    "\n",
    "print(\"El número de combinaciones posibles es:\", combinaciones)"
   ]
  },
  {
   "cell_type": "markdown",
   "metadata": {},
   "source": [
    "Luego, calculamos el mínimo número de días que necesitamos para encajar las tomas, ya que otra restricción del problema es que los actores de doblaje cobran todos la misma cantidad por cada día que deben desplazarse hasta el estudio de grabación independientemente del número de tomas que se graben por lo que nos interesa minimizar el numeros de dias de rodaje.\n",
    "Tenemos que fijarnos en este número de dias que nos sale e intentar tender a él.\n"
   ]
  },
  {
   "cell_type": "code",
   "execution_count": 6,
   "metadata": {},
   "outputs": [
    {
     "name": "stdout",
     "output_type": "stream",
     "text": [
      "El numero minimo de dias necesario es:  5\n"
     ]
    }
   ],
   "source": [
    "min_dias = math.ceil(num_tomas / max_tomas_por_dia)\n",
    "\n",
    "print (\"El numero minimo de dias necesario es: \", min_dias)"
   ]
  },
  {
   "cell_type": "markdown",
   "metadata": {},
   "source": [
    "\n",
    "Restriccion 2: Los actores del doblaje deben coincidir en las tomas en las que sus personajes aparecen juntos en las diferentes tomas."
   ]
  },
  {
   "cell_type": "markdown",
   "metadata": {},
   "source": [
    "Vamos a definir la matriz de participación de los actores en cada toma. \n",
    "\n",
    "Esto nos va a ir marcando qué actores tenemos ese día en nuestro conjunto de combinaciones.\n"
   ]
  },
  {
   "cell_type": "code",
   "execution_count": 7,
   "metadata": {},
   "outputs": [],
   "source": [
    "\n",
    "# Leer el archivo Excel en un DataFrame,\n",
    "participacion_df = pd.read_excel(archivo_excel)  \n",
    "\n",
    "# Imprimir la matriz de participación\n",
    "#print(\"Matriz de Participación:\")\n",
    "\n",
    "\n",
    "#print(participacion_df)\n",
    "\n"
   ]
  },
  {
   "cell_type": "markdown",
   "metadata": {
    "id": "dzynfVJahHoY"
   },
   "source": [
    "### Modelo para el espacio de soluciones<br>\n",
    "### (*) ¿Cual es la estructura de datos que mejor se adapta al problema? Argumentalo.(Es posible que hayas elegido una al principio y veas la necesidad de cambiar, arguentalo)\n"
   ]
  },
  {
   "cell_type": "markdown",
   "metadata": {
    "id": "xFIJrOwKi2Ti"
   },
   "source": [
    " matrices, al principio habia pensado conjuntos, diccionario de conjuntos, pero no es necesario,\n",
    " Matriz de Participación (DataFrame de pandas)\n",
    "\n",
    "Justificación:\n",
    "Claridad y Simplicidad: Una matriz de participación donde las filas representan a los actores y las columnas representan las tomas permite una visualización clara y directa de qué actores participan en cada toma. \n",
    "\n",
    "Esto facilita la identificación rápida de las tomas que pueden agruparse en un mismo día.\n",
    "\n",
    "Operaciones Eficientes: Las operaciones de acceso y modificación de elementos en una matriz son muy eficientes.\n",
    "\n",
    "Dado que necesitamos verificar la participación de actores en diferentes tomas frecuentemente, la matriz permite realizar estas operaciones en tiempo constante  O(1).\n",
    "\n",
    "\n",
    "Compatibilidad con Herramientas de Análisis: Utilizando un DataFrame de pandas, podemos aprovechar una amplia gama de funciones de análisis y manipulación de datos, lo cual es extremadamente útil para la preprocesamiento de los datos y la aplicación de algoritmos de optimización.\n",
    "\n",
    "También es verdad que según el algoritmo que he implementado he añadido o refinado el uso de los tipos de datos.\n",
    "\n",
    "Matriz de Participación (participation_matrix):\n",
    "\n",
    "Tipo: numpy.ndarray\n",
    "Justificación: La matriz de participación es una estructura bidimensional que indica qué actores participan en qué tomas. Usar un numpy.ndarray es eficiente tanto en términos de memoria como de operaciones de acceso y manipulación, que son necesarias para evaluar rápidamente los actores participantes en cualquier subconjunto de tomas.\n",
    "\n",
    "\n",
    "Tabla de Programación Dinámica (dp):\n",
    "\n",
    "Tipo: lista\n",
    "Justificación: La tabla dp es una lista unidimensional donde dp[i] almacena el costo mínimo para grabar las primeras i tomas. Usar una lista es suficiente y eficiente para este propósito ya que solo necesitamos acceder y actualizar los costos de forma secuencial y directa.\n",
    "Lista de Particiones (particiones):\n",
    "\n",
    "\n",
    "Lista de Resultados (dias):\n",
    "\n",
    "Tipo: lista de tuplas\n",
    "Justificación: La lista dias almacena tuplas que representan los rangos de tomas asignadas a cada día. Este formato es conveniente para reconstruir y presentar la secuencia óptima de tomas por día. Usar una lista de tuplas facilita la manipulación y el acceso ordenado a los datos.\n",
    "\n",
    "\n",
    "DataFrame de Resultados (resultado):\n",
    "\n",
    "Tipo: pandas.DataFrame\n",
    "\n",
    "\n",
    "Para la presentación final de los resultados, un pandas.DataFrame es el ideal.\n",
    "\n",
    "Elección de las Estructuras de Datos\n",
    "\n",
    "numpy.ndarray para participation_matrix: Esta elección se debe a la necesidad de realizar operaciones vectorizadas rápidas y eficientes al calcular la participación de los actores en múltiples tomas.\n",
    "\n",
    "list para dp y particiones: Las listas proporcionan una estructura simple y eficiente para almacenar los resultados de la programación dinámica y las decisiones de partición.\n",
    "\n",
    "pandas.DataFrame para resultado: El uso de un DataFrame facilita la manipulación y visualización de los resultados finales, permitiendo una presentación clara y ordenada.\n",
    "\n",
    "Consideraciones Iniciales y Ajustes\n",
    "Inicialmente, consideré usar listas para todas las estructuras de datos debido a su simplicidad y facilidad de uso. Sin embargo, al trabajar con la matriz de participación, opté por numpy.ndarray debido a sus ventajas en términos de rendimiento para operaciones matemáticas y lógicas.\n",
    "\n",
    "En resumen, la combinación de numpy y pandas junto con listas nativas de Python proporciona un equilibrio óptimo entre eficiencia, simplicidad y capacidad de presentación para resolver y visualizar este problema de optimización."
   ]
  },
  {
   "cell_type": "markdown",
   "metadata": {
    "id": "7Z9U2W7bi-XS"
   },
   "source": [
    "### Según el modelo para el espacio de soluciones<br>\n",
    "### (*)¿Cual es la función objetivo?\n",
    "\n",
    "### (*)¿Es un problema de maximización o minimización?"
   ]
  },
  {
   "cell_type": "markdown",
   "metadata": {},
   "source": [
    "Es un problema de minimización de costes, que teniendo en cuenta que son fijos por actor y dia, minimizar el coste de esta función es tambien minimizar el numero de dias "
   ]
  },
  {
   "cell_type": "markdown",
   "metadata": {
    "id": "rlnTYgY1j6I2"
   },
   "source": [
    "### Diseña un algoritmo para resolver el problema por fuerza bruta"
   ]
  },
  {
   "cell_type": "markdown",
   "metadata": {
    "id": "tgrnsC2nkFa8"
   },
   "source": [
    "### Calcula la complejidad del algoritmo por fuerza bruta"
   ]
  },
  {
   "cell_type": "markdown",
   "metadata": {
    "id": "9eUd3xwckP68"
   },
   "source": [
    "Pues es que la complejidad del algoritmo por fuerza bruta es paralela al orden de las 768211 combinaciones calculadas en el apartado anterior.\n",
    "\n",
    "Es un algoritmo que no se puede ejecutar porque nunca termina. (Se queda pillado). \n",
    "\n"
   ]
  },
  {
   "cell_type": "markdown",
   "metadata": {},
   "source": [
    "Aquí está el diseño:\n",
    "\n",
    "### Paso 1. Generar todas las combinaciones posibles de tomas por día:\n",
    "\n",
    "Para cada día, generar todas las combinaciones posibles de hasta 6 tomas.\n",
    "\n",
    "### Paso 2. Calcular el costo de cada combinación:\n",
    "\n",
    "Para cada combinación de tomas en un día, calcular cuántos actores deben desplazarse.\n",
    "Sumar los costos diarios de desplazamiento para obtener el costo total de esa combinación de días.\n",
    "\n",
    "### Paso 3. Elegir la combinación con el costo mínimo:\n",
    "\n",
    "Comparar los costos de todas las combinaciones posibles y seleccionar la que minimice el gasto total.\n",
    "\n",
    "\n",
    "\n",
    "# NOTA MUY IMPORTANTE\n",
    "\n",
    "Se añaden los parámetros\n",
    "\n",
    "max_combinaciones =  # Máximo número de combinaciones permitidas\n",
    "\n",
    "max_permutaciones =  # Máximo número de permutaciones permitidas\n",
    "\n",
    "\n",
    "DE ESTA MANERA, PODEMOS PROBAR EL FUNCIONAMIENTO DEL ALGORITMO SIN QUE SE EJECUTE INDEFINIDAMENTE.\n",
    "\n",
    "Sabemos que no es la solución buena, pero tenemos que probar que nos funcionaria.\n"
   ]
  },
  {
   "cell_type": "code",
   "execution_count": 8,
   "metadata": {},
   "outputs": [
    {
     "name": "stdout",
     "output_type": "stream",
     "text": [
      "Mejor costo: inf\n",
      "Mejor configuración: None\n",
      "Número de combinaciones generadas: 10\n",
      "Número de permutaciones generadas: 10\n"
     ]
    }
   ],
   "source": [
    "participacion_np = participacion_df.drop(columns=['Toma']).to_numpy()\n",
    "\n",
    "# Función para calcular el costo de desplazamiento de una configuración dada\n",
    "def calcular_costo(configuracion):\n",
    "    costo_total = 0\n",
    "    for dia in configuracion:\n",
    "        actores_dia = set()\n",
    "        for toma in dia:\n",
    "            actores_dia.update(np.where(participacion_np[toma] == 1)[0])\n",
    "        costo_total += len(actores_dia)\n",
    "    return costo_total\n",
    "\n",
    "# Generar combinaciones limitadas\n",
    "def generar_combinaciones(tomas, k, limite):\n",
    "    resultado = []\n",
    "    combinaciones_contador = [0]  # Usamos una lista mutable para el contador\n",
    "\n",
    "    def combinacion(inicio, camino):\n",
    "        if combinaciones_contador[0] >= limite:  # Detener después de alcanzar el límite\n",
    "            return\n",
    "        if len(camino) == k:\n",
    "            resultado.append(camino[:])\n",
    "            combinaciones_contador[0] += 1\n",
    "            return\n",
    "        for i in range(inicio, len(tomas)):\n",
    "            camino.append(tomas[i])\n",
    "            combinacion(i + 1, camino)\n",
    "            camino.pop()\n",
    "    \n",
    "    combinacion(0, [])\n",
    "    return resultado\n",
    "\n",
    "# Generar permutaciones limitadas\n",
    "def generar_permutaciones(arr, k, limite):\n",
    "    resultado = []\n",
    "    usados = [False] * len(arr)\n",
    "    permutaciones_contador = [0]  # Usamos una lista mutable para el contador\n",
    "\n",
    "    def permutacion(camino):\n",
    "        if permutaciones_contador[0] >= limite:  # Detener después de alcanzar el límite\n",
    "            return\n",
    "        if len(camino) == k:\n",
    "            resultado.append(camino[:])\n",
    "            permutaciones_contador[0] += 1\n",
    "            return\n",
    "        for i in range(len(arr)):\n",
    "            if not usados[i]:\n",
    "                usados[i] = True\n",
    "                camino.append(arr[i])\n",
    "                permutacion(camino)\n",
    "                camino.pop()\n",
    "                usados[i] = False\n",
    "    \n",
    "    permutacion([])\n",
    "    return resultado\n",
    "\n",
    "# Lista de tomas\n",
    "tomas = list(range(30))\n",
    "\n",
    "# Parámetros\n",
    "max_combinaciones = 10  # Máximo número de combinaciones permitidas\n",
    "max_permutaciones = 10  # Máximo número de permutaciones permitidas\n",
    "\n",
    "# Generar combinaciones de tomas con límite\n",
    "combinaciones = generar_combinaciones(tomas, 6, max_combinaciones)\n",
    "\n",
    "# Generar permutaciones de combinaciones con límite\n",
    "permutaciones = generar_permutaciones(combinaciones, 5, max_permutaciones)\n",
    "\n",
    "# Encontrar la mejor configuración\n",
    "mejor_costo = float('inf')\n",
    "mejor_configuracion = None\n",
    "\n",
    "for config in permutaciones:\n",
    "    tomas_cubiertas = set()\n",
    "    for dia in config:\n",
    "        for toma in dia:\n",
    "            tomas_cubiertas.add(toma)\n",
    "    if len(tomas_cubiertas) == 30:  # Asegurarse de cubrir todas las tomas\n",
    "        costo_actual = calcular_costo(config)\n",
    "        if costo_actual < mejor_costo:\n",
    "            mejor_costo = costo_actual\n",
    "            mejor_configuracion = config\n",
    "\n",
    "# Resultados\n",
    "print(\"Mejor costo:\", mejor_costo)\n",
    "print(\"Mejor configuración:\", mejor_configuracion)\n",
    "print(\"Número de combinaciones generadas:\", len(combinaciones))\n",
    "print(\"Número de permutaciones generadas:\", len(permutaciones))\n"
   ]
  },
  {
   "cell_type": "markdown",
   "metadata": {},
   "source": [
    "### NOTA: Aquí tengo en cuenta sus indicaciones de feedback:\n",
    "\n",
    "1. No descarto soluciones deterministas: he aquí el problema tratado con programacion dinamica\n",
    "\n"
   ]
  },
  {
   "cell_type": "markdown",
   "metadata": {
    "id": "txbrmLmskReM"
   },
   "source": [
    "## (*)Diseña un algoritmo que mejore la complejidad del algortimo por fuerza bruta. Argumenta porqué crees que mejora el algoritmo por fuerza bruta"
   ]
  },
  {
   "cell_type": "markdown",
   "metadata": {
    "id": "hLrVwt5QkZPD"
   },
   "source": [
    "He elegido el Algoritmo de Programación Dinámica para el Problema de las Sesiones de Doblaje\n",
    "\n",
    "Motivo:\n",
    "\n",
    "Al irlo entendiendo y asimilando lo he relacionado mentalmente con el \"Problema de la Mochila\", que se puede resolver con programación dinámica, al igual que estos otros problemas que se pueden resolver con este algoritmo también se le parecen:\n",
    "\n",
    "**Scheduling**: En nuestro problema, estamos programando las tomas en días, lo que se asemeja a programar tareas en un horario. \n",
    "**Problema de la mochila**: En nuestro problema, estamos seleccionando qué tomas se grabarán en cada día, lo que se asemeja a seleccionar qué objetos se incluyen en una mochila con un peso máximo. \n",
    "**Cutting stock problem**: En nuestro problema, estamos cortando tomas en días, lo que se asemeja a cortar piezas de material para minimizar el residuo. La programación dinámica se utiliza comúnmente en problemas de cutting stock para minimizar el residuo y maximizar el uso del material.\n",
    "\n",
    "Además, me aseguré de que cumple las dos condiciones generales que deben cumplir los problemas para ser tratados por programacion dinámica:\n",
    "\n",
    "1. Se puede alcanzar la solución a través de una secuencia de decisiones. \n",
    "\n",
    "2. La secuencia cumple con el principio de optimización.\n",
    "\n",
    "En este problema, se tiene una capacidad limitada (la capacidad de grabar 6 tomas al día) y se deben seleccionar las tomas que se van a grabar en cada día de manera que se minimice el costo (el gasto por los desplazamientos de los actores).\n",
    "\n",
    "El problema de la mochila es un problema clásico en la teoría de la complejidad computacional y se puede resolver utilizando técnicas de programación dinámica, como la tabla de Programación Dinámica (DP) utilizada en el código proporcionado.\n",
    "\n",
    "En este problema, la capacidad limitada se refleja en la restricción de que se pueden grabar como máximo 6 tomas al día, y el costo se refleja en la cuota fija que cobran los actores por cada día que se desplazan para participar en una toma.\n",
    "\n",
    "La solución al problema se obtiene construyendo una tabla DP que almacena el costo óptimo para grabar las tomas en cada día, y luego se reconstruye la lista óptima de tomas por día a partir de la tabla DP.\n",
    "\n",
    "Subproblemas:\n",
    "\n",
    "La clave está en descomponer el problema en subproblemas más pequeños. Cada subproblema consiste en encontrar el coste mínimo para un subconjunto de tomas desde la primera hasta la i-ésima toma.\n",
    "\n",
    "Solape de Subproblemas: Los mismos subproblemas se resuelven múltiples veces. Por ejemplo, para calcular dp[10], necesitamos conocer los valores de dp[4], dp[5], ..., dp[9].\n",
    "\n",
    "Subestructura Óptima: La solución óptima del problema completo se construye a partir de soluciones óptimas de sus subproblemas.\n",
    "\n",
    "Definimos dp[i] como el coste mínimo para grabar las primeras i tomas.\n",
    "\n",
    "-  Transición de Estados:\n",
    "\n",
    "Para cada toma i, y cada posible número de tomas k que se pueden realizar en un día (donde k varía desde 1 hasta max_tomas_por_dia), calculamos el costo de asignar las tomas del día i-k al día i.\n",
    "\n",
    "El costo se calcula con la función calcular_actores_por_dia, que determina los actores necesarios para un conjunto de tomas y devuelve su cantidad y la lista de actores involucrados.\n",
    "\n",
    "-  Inicialización y Solución:\n",
    "\n",
    "Inicializamos la tabla dp con un valor alto (np.inf) excepto dp[0], que se inicializa en 0.\n",
    "Iteramos sobre todas las tomas y posibles días de grabación, actualizando la tabla dp y manteniendo un registro de las soluciones parciales en la tabla soluciones.\n",
    "\n",
    "\n",
    "-  Justificación de la Mejora\n",
    "\n",
    "El enfoque de programación dinámica majora la complejidad del algoritmo de fuerza bruta por las siguientes razones:\n",
    "\n",
    "-  Reducción de Recomputaciones: al almacenar los resultados de subproblemas en la tabla dp, evitamos recalcular el costo de las mismas combinaciones de tomas y actores múltiples veces.\n",
    "\n",
    "-  Optimización de Subproblemas: En lugar de evaluar todas las combinaciones posibles, el algoritmo de programación dinámica divide el problema en subproblemas más pequeños y optimiza cada subproblema de forma independiente, combinando sus resultados para obtener la solución final.\n",
    "\n",
    "El algoritmo de programación dinámica es mucho más eficiente y manejable, lo que lo convierte en una mejora considerable respecto al enfoque de fuerza bruta."
   ]
  },
  {
   "cell_type": "code",
   "execution_count": 8,
   "metadata": {},
   "outputs": [
    {
     "name": "stdout",
     "output_type": "stream",
     "text": [
      "   Día          Tomas  Costo\n",
      "0    1    Tomas 1 a 6      7\n",
      "1    2   Tomas 7 a 12      8\n",
      "2    3  Tomas 13 a 18      8\n",
      "3    4  Tomas 19 a 24      7\n",
      "4    5  Tomas 25 a 30      8\n",
      "Costo Total: 38\n"
     ]
    }
   ],
   "source": [
    "\n",
    "# Cargar la matriz de participación desde el archivo\n",
    "file_path = 'Datos problema.xlsx'\n",
    "data = pd.read_excel(file_path)\n",
    "participation_matrix = data.drop(columns=['Toma']).to_numpy()\n",
    "\n",
    "num_tomas = participation_matrix.shape[0]\n",
    "num_actores = participation_matrix.shape[1]\n",
    "max_tomas_per_day = 6\n",
    "\n",
    "# Función para calcular el coste de un día\n",
    "def calcular_costo_dia(tomas):\n",
    "    actores_participantes = np.any(participation_matrix[tomas, :], axis=0)\n",
    "    return np.sum(actores_participantes)\n",
    "\n",
    "# Inicialización de la tabla de DP\n",
    "dp = [float('inf')] * (num_tomas + 1)\n",
    "dp[0] = 0\n",
    "particiones = [-1] * (num_tomas + 1)\n",
    "\n",
    "# Rellenar la tabla de DP\n",
    "for i in range(1, num_tomas + 1):\n",
    "    for j in range(max(0, i - max_tomas_per_day), i):\n",
    "        costo = calcular_costo_dia(slice(j, i))\n",
    "        if dp[j] + costo < dp[i]:\n",
    "            dp[i] = dp[j] + costo\n",
    "            particiones[i] = j\n",
    "\n",
    "# Reconstrucción de la lista óptima de tomas por día\n",
    "dias = []\n",
    "i = num_tomas\n",
    "while i > 0:\n",
    "    dias.append((particiones[i], i))\n",
    "    i = particiones[i]\n",
    "\n",
    "# Inversión de la lista para obtener el orden correcto\n",
    "dias.reverse()\n",
    "\n",
    "# Creación de la tabla de resultados y cálculo del costo total\n",
    "resultado = pd.DataFrame({\n",
    "    'Día': range(1, len(dias) + 1),\n",
    "    'Tomas': [f\"Tomas {inicio + 1} a {fin}\" for inicio, fin in dias],\n",
    "    'Costo': [calcular_costo_dia(slice(inicio, fin)) for inicio, fin in dias]\n",
    "})\n",
    "\n",
    "# Cálculo del costo total\n",
    "costo_total = resultado['Costo'].sum()\n",
    "\n",
    "# Mostrar el resultado\n",
    "print(resultado)\n",
    "print(f\"Costo Total: {costo_total}\")"
   ]
  },
  {
   "cell_type": "markdown",
   "metadata": {
    "id": "NhpTh_BPk1ms"
   },
   "source": [
    "### (*)Calcula la complejidad del algoritmo"
   ]
  },
  {
   "cell_type": "markdown",
   "metadata": {},
   "source": [
    "El orden de complejidad de este algoritmo es O(n*m), donde:\n",
    "\n",
    "n es el número de tomas (num_tomas)\n",
    "\n",
    "m es el número de actores (num_actores)\n",
    "\n",
    "La razón es la siguiente:\n",
    "\n",
    "El bucle forque rellena la tabla de DP itera num_tomas n veces, lo que da un orden de complejidad de O(n).\n",
    "\n",
    "Dentro de ese bucle, hay otro bucle for que itera desde i - max_tomas_per_day hasta i, lo que da un orden de complejidad de O(m) en el peor caso.\n",
    "\n",
    "El cálculo del costo de un día ( calcular_costo_dia) tiene un orden de complejidad de O(m), ya que itera sobre los actores.\n",
    "\n",
    "La reconstrucción de la lista óptima de tomas por día itera num_tomas n veces, lo que da un orden de complejidad de O(n).\n",
    "\n",
    "La creación de la tabla de resultados y el cálculo del costo total tienen un orden de complejidad de O(n), ya que itera sobre las filas de la tabla.\n",
    "\n",
    "Por lo tanto, el orden de complejidad total es O(n*m), ya que el bucle for que rellena la tabla de DP es el que domina el orden de complejidad.\n"
   ]
  },
  {
   "cell_type": "markdown",
   "metadata": {
    "id": "3M6QjTsSkmYe"
   },
   "source": [
    "## Según el problema (y tenga sentido), diseña un juego de datos de entrada aleatorios"
   ]
  },
  {
   "cell_type": "code",
   "execution_count": 9,
   "metadata": {},
   "outputs": [
    {
     "name": "stdout",
     "output_type": "stream",
     "text": [
      "   Toma  Actor_1  Actor_2  Actor_3  Actor_4  Actor_5  Actor_6  Actor_7  \\\n",
      "0     1        0        1        0        0        0        1        0   \n",
      "1     2        1        0        1        1        1        1        1   \n",
      "2     3        0        0        1        1        1        1        1   \n",
      "3     4        0        0        0        0        0        1        1   \n",
      "4     5        0        1        0        1        0        0        1   \n",
      "\n",
      "   Actor_8  Actor_9  ...  Actor_11  Actor_12  Actor_13  Actor_14  Actor_15  \\\n",
      "0        0        0  ...         0         0         0         0         1   \n",
      "1        1        1  ...         0         0         1         1         1   \n",
      "2        0        1  ...         0         1         0         1         0   \n",
      "3        0        1  ...         1         1         0         1         0   \n",
      "4        0        1  ...         1         1         1         1         1   \n",
      "\n",
      "   Actor_16  Actor_17  Actor_18  Actor_19  Actor_20  \n",
      "0         0         1         1         1         0  \n",
      "1         0         1         0         0         0  \n",
      "2         1         1         0         0         0  \n",
      "3         1         1         1         0         1  \n",
      "4         1         1         1         1         0  \n",
      "\n",
      "[5 rows x 21 columns]\n",
      "Nuevo archivo guardado en: Nuevos_Datos_problema.xlsx\n"
     ]
    }
   ],
   "source": [
    "\n",
    "# Definir los tamaños del nuevo dataset\n",
    "new_num_tomas = 100  # Aumentar el número de tomas a 100\n",
    "new_num_actores = 20  # Aumentar el número de actores a 20\n",
    "\n",
    "# Generar una nueva matriz de participación aleatoria\n",
    "np.random.seed(42)  # Para reproducibilidad\n",
    "new_participation_matrix = np.random.randint(2, size=(new_num_tomas, new_num_actores))\n",
    "\n",
    "# Crear un nuevo DataFrame con las tomas y la nueva matriz de participación\n",
    "new_data = pd.DataFrame(new_participation_matrix, columns=[f'Actor_{i+1}' for i in range(new_num_actores)])\n",
    "new_data.insert(0, 'Toma', range(1, new_num_tomas + 1))\n",
    "\n",
    "# Guardar el nuevo dataset en un archivo Excel\n",
    "new_file_path = 'Nuevos_Datos_problema.xlsx'\n",
    "new_data.to_excel(new_file_path, index=False)\n",
    "\n",
    "# Mostrar una vista previa de los datos generados\n",
    "print(new_data.head())\n",
    "\n",
    "# Confirmar que el archivo ha sido guardado\n",
    "print(f\"Nuevo archivo guardado en: {new_file_path}\")\n"
   ]
  },
  {
   "cell_type": "markdown",
   "metadata": {
    "id": "zy5ZROmjlGo1"
   },
   "source": [
    "## Aplica el algoritmo al juego de datos generado"
   ]
  },
  {
   "cell_type": "code",
   "execution_count": 10,
   "metadata": {},
   "outputs": [
    {
     "name": "stdout",
     "output_type": "stream",
     "text": [
      "    Día           Tomas  Costo\n",
      "0     1     Tomas 1 a 6     20\n",
      "1     2    Tomas 7 a 10     15\n",
      "2     3   Tomas 11 a 16     20\n",
      "3     4   Tomas 17 a 22     20\n",
      "4     5   Tomas 23 a 28     20\n",
      "5     6   Tomas 29 a 34     20\n",
      "6     7   Tomas 35 a 40     20\n",
      "7     8   Tomas 41 a 46     19\n",
      "8     9   Tomas 47 a 52     20\n",
      "9    10   Tomas 53 a 58     20\n",
      "10   11   Tomas 59 a 64     20\n",
      "11   12   Tomas 65 a 70     19\n",
      "12   13   Tomas 71 a 76     19\n",
      "13   14   Tomas 77 a 82     20\n",
      "14   15   Tomas 83 a 88     19\n",
      "15   16   Tomas 89 a 94     20\n",
      "16   17  Tomas 95 a 100     19\n",
      "Costo Total: 330\n"
     ]
    }
   ],
   "source": [
    "\n",
    "# Cargar la matriz de participación desde el archivo\n",
    "file_path = 'Nuevos_Datos_problema.xlsx'\n",
    "data = pd.read_excel(file_path)\n",
    "participation_matrix = data.drop(columns=['Toma']).to_numpy()\n",
    "\n",
    "num_tomas = participation_matrix.shape[0]\n",
    "num_actores = participation_matrix.shape[1]\n",
    "max_tomas_per_day = 6\n",
    "\n",
    "# Función para calcular el coste de un día\n",
    "def calcular_costo_dia(tomas):\n",
    "    actores_participantes = np.any(participation_matrix[tomas, :], axis=0)\n",
    "    return np.sum(actores_participantes)\n",
    "\n",
    "# Inicialización de la tabla de DP\n",
    "dp = [float('inf')] * (num_tomas + 1)\n",
    "dp[0] = 0\n",
    "particiones = [-1] * (num_tomas + 1)\n",
    "\n",
    "# Rellenar la tabla de DP\n",
    "for i in range(1, num_tomas + 1):\n",
    "    for j in range(max(0, i - max_tomas_per_day), i):\n",
    "        costo = calcular_costo_dia(slice(j, i))\n",
    "        if dp[j] + costo < dp[i]:\n",
    "            dp[i] = dp[j] + costo\n",
    "            particiones[i] = j\n",
    "\n",
    "# Reconstrucción de la lista óptima de tomas por día\n",
    "dias = []\n",
    "i = num_tomas\n",
    "while i > 0:\n",
    "    dias.append((particiones[i], i))\n",
    "    i = particiones[i]\n",
    "\n",
    "# Inversión de la lista para obtener el orden correcto\n",
    "dias.reverse()\n",
    "\n",
    "# Creación de la tabla de resultados y cálculo del costo total\n",
    "resultado = pd.DataFrame({\n",
    "    'Día': range(1, len(dias) + 1),\n",
    "    'Tomas': [f\"Tomas {inicio + 1} a {fin}\" for inicio, fin in dias],\n",
    "    'Costo': [calcular_costo_dia(slice(inicio, fin)) for inicio, fin in dias]\n",
    "})\n",
    "\n",
    "# Cálculo del costo total\n",
    "costo_total = resultado['Costo'].sum()\n",
    "\n",
    "# Mostrar el resultado\n",
    "print(resultado)\n",
    "print(f\"Costo Total: {costo_total}\")"
   ]
  },
  {
   "cell_type": "markdown",
   "metadata": {
    "id": "eTFWUJQrtGcv"
   },
   "source": [
    "## Enumera las referencias que has utilizado(si ha sido necesario) para llevar a cabo el trabajo"
   ]
  },
  {
   "cell_type": "markdown",
   "metadata": {
    "id": "YKQ_mRBttWsP"
   },
   "source": [
    "He aplicado lo visto en clase."
   ]
  },
  {
   "cell_type": "markdown",
   "metadata": {
    "id": "kAkDPUyRtYyH"
   },
   "source": [
    "## Describe brevemente las lineas de como crees que es posible avanzar en el estudio del problema. Ten en cuenta incluso posibles variaciones del problema y/o variaciones al alza del tamaño"
   ]
  },
  {
   "cell_type": "markdown",
   "metadata": {
    "id": "IE0uZmo-tZu-"
   },
   "source": [
    "##  NOTA: Aquí he tenido en cuenta esto otro que me decia en su feedback: \n",
    "\n",
    "\"Te has decantado por un metaheuristico, lo cual me parece bien. Eso si, me faltan muchas explicaciones en la entrega (ej. por que descartas soluciones deterministas, \n",
    "o como vas a comparar la calidad de las distintas soluciones o porque crees que el incorporar una solucion tabu te empeora).\"\n",
    "\n",
    "\n",
    "Pues bien, en cuanto los datos crecen un poco nos damos cuenta de que el algoritmo de programación dinámica se nos va a quedar muy corto, además no es capaz de refinar soluciones.\n",
    "\n",
    "Pero al implementar el algoritmo TABU con el juego de soluciones pequeño me daba una solución mala, peor que la solución del algoritmo de programación dinámica, y eso me despistó.\n",
    "Pero me di cuenta estudiando y haciendolo que cuando despliega todo su potencial es cuando aumentamos el tamaño de los datos, como debe ser y \n",
    "para eso estan destinados los algoritmos metaheurísitcos en general.\n",
    "\n",
    "Y tambien como el funcionamiento general de las técnicas metaheurísticas consiste en mantener almacenada durante el proceso una solución o estado de referencia, que es el mejor encontrado hasta el momento a través de las iteraciones, pues pensé que en este problema nuestro de las tomas nos podria venir bien en concreto el ALGORITMO TABÚ ya que el propósito de la lista tabú es evitar volver a soluciones encontradas recientemente para evitar los ciclos en el proceso. \n",
    "La mejor solución hasta el momento se guarda para ser considera la solución final.\n",
    "\n",
    "El tamaño de la lista tabú es el que controla la memoria del proceso, de tal manera que, para tamaños pequeños, el proceso se concentra en espacios de soluciones pequeños. Sin embargo, para tamaños grandes de la lista, el proceso explora espacios más grandes de soluciones.\n",
    "\n",
    "Es que me parece que se ajusta muy bien a nuestro problema.\n",
    "\n",
    "Para comparar la calidad de las soluciones:\n",
    "\n",
    "-  evaluando el valor objetivo de cada solución.\n",
    "  \n",
    "- por la cantidad de diferentes soluciones encontradas.\n",
    "  \n",
    "- si van convergiendo de las soluciones.\n",
    "\n"
   ]
  },
  {
   "cell_type": "markdown",
   "metadata": {},
   "source": [
    "Ahora voy a implementar el algoritmo TABU como solucion general.\n",
    "\n",
    "\n",
    "GENERAR SOLUCION INICIAL\n",
    "\n",
    "Para asegurar que la solución inicial sea siempre la misma y pueda revisar el resultado, \n",
    "\n",
    "tanto a la función generar_solucion_inicial como a generar vecino le he pasado un valor fijo de semilla en la generación aleatoria.\n",
    "\n",
    "llamar a random.seed(semilla)\n",
    "\n",
    "ya lo cambiaré luego cuando continue el ejercicio\n",
    "\n",
    "GENERAR VECINO\n",
    "\n",
    "Genera una solución vecina intercambiando tomas entre dos días seleccionados aleatoriamente. Con semilla por ahora\n",
    "\n",
    "\n",
    "PASOS:\n",
    "\n",
    "- Inicialización\n",
    "\n",
    "Genera una solución inicial y calcula su costo.\n",
    "Inicializa la lista Tabú y establece la mejor solución y su costo.\n",
    "\n",
    "- Iteraciones\n",
    "\n",
    "Para cada iteración, genera una solución vecina.\n",
    "Calcula el costo de la solución vecina.\n",
    "Si la solución vecina no está en la lista Tabú y es mejor que la solución actual o la mejor solución encontrada, \n",
    "\n",
    "actualiza la solución actual y, si corresponde, la mejor solución.\n",
    "\n",
    "Añade la solución vecina a la lista Tabú y, si la lista excede el tamaño máximo, elimina la solución más antigua.\n"
   ]
  },
  {
   "cell_type": "code",
   "execution_count": 36,
   "metadata": {},
   "outputs": [
    {
     "name": "stdout",
     "output_type": "stream",
     "text": [
      "Día 1: [82, 15, 4, 95, 36, 32]\n",
      "Día 2: [20, 16, 92, 74, 13, 21]\n",
      "Día 3: [86, 63, 6, 5, 14, 35]\n",
      "Día 4: [42, 79, 96, 7, 88, 38]\n",
      "Día 5: [91, 70, 44, 75, 51, 1]\n",
      "Día 6: [33, 77, 62, 54, 30, 45]\n",
      "Día 7: [68, 12, 11, 43, 99, 40]\n",
      "Día 8: [94, 47, 67, 29, 89, 8]\n",
      "Día 9: [87, 59, 66, 53, 18, 31]\n",
      "Día 10: [78, 48, 85, 84, 56, 80]\n",
      "Día 11: [28, 17, 9, 37, 49, 19]\n",
      "Día 12: [52, 25, 72, 27, 100, 64]\n",
      "Día 13: [97, 50, 24, 98, 90, 26]\n",
      "Día 14: [93, 46, 10, 34, 73, 41]\n",
      "Día 15: [55, 58, 57, 39, 65, 60]\n",
      "Día 16: [23, 69, 2, 3, 76, 22]\n",
      "Día 17: [61, 71, 81, 83]\n",
      "Actores diferentes que trabajan cada día: {1: 10, 2: 10, 3: 10, 4: 10, 5: 10, 6: 10, 7: 10, 8: 10, 9: 10, 10: 10, 11: 10, 12: 10, 13: 10, 14: 10, 15: 10, 16: 10, 17: 10}\n",
      "Total de sueldos a pagar: 170\n"
     ]
    }
   ],
   "source": [
    "### Leer el archivo Excel en un DataFrame\n",
    "file_path = 'Nuevos_Datos_problema.xlsx'\n",
    "\n",
    "df = pd.read_excel(file_path)  \n",
    "\n",
    "datos_tomas_tabu = df\n",
    "\n",
    "\n",
    "# Evalúa cuántos actores diferentes están presentes en una lista de tomas.\n",
    "\n",
    "def evaluar_lista(tomas, datos_tomas_tabu):\n",
    "    num_actores = 10\n",
    "    actores_presentes = set()\n",
    "    for toma in tomas:\n",
    "        toma_idx = datos_tomas_tabu.index[datos_toma_tabu['Toma'] == toma].tolist()[0]\n",
    "        for actor in range(num_actores):\n",
    "            if datos_tomas_tabu.iloc[toma_idx, actor + 1] == 1:\n",
    "                actores_presentes.add(actor)\n",
    "    return len(actores_presentes)\n",
    "\n",
    "\n",
    "#esta ya la tenia del algoritmo de programacion dinamica\n",
    "#Calcula el número de actores presentes cada día, dada una distribución de tomas.\n",
    "\n",
    "def calcular_actores_por_dia(dias_tomas, datos_tomas_tabu):\n",
    "    num_actores = 10\n",
    "    actores_por_dia = {}\n",
    "    \n",
    "    for dia, tomas in dias_tomas.items():\n",
    "        actores_presentes = set()\n",
    "        for toma in tomas:\n",
    "            toma_idx = datos_tomas_tabu.index[datos_tomas_tabu['Toma'] == toma].tolist()[0]\n",
    "            for actor in range(num_actores):\n",
    "                if datos_tomas_tabu.iloc[toma_idx, actor + 1] == 1:\n",
    "                    actores_presentes.add(actor)\n",
    "        actores_por_dia[dia] = len(actores_presentes)\n",
    "    \n",
    "    return actores_por_dia\n",
    "\n",
    "# Calcula el costo total (número total de actores) sumando los actores diferentes presentes cada día.\n",
    "def calcular_costo(dias_tomas, datos_tomas_tabu):\n",
    "    actores_por_dia = calcular_actores_por_dia(dias_tomas, datos_tomas_tabu)\n",
    "    return sum(actores_por_dia.values())\n",
    "\n",
    "    \n",
    "def generar_solucion_inicial(datos_tomas_tabu, semillai=42):\n",
    "    random.seed(semillai)  # Establece la semilla para la generación aleatoria\n",
    "    tomas_restantes = list(datos_tomas_tabu['Toma'])\n",
    "    dias_tomas = {}\n",
    "    dia = 1\n",
    "    \n",
    "    while tomas_restantes:\n",
    "        if len(tomas_restantes) <= 6:\n",
    "            dias_tomas[dia] = tomas_restantes\n",
    "            break\n",
    "        else:\n",
    "            lista_actual = random.sample(tomas_restantes, 6)\n",
    "            dias_tomas[dia] = lista_actual\n",
    "            tomas_restantes = [toma for toma in tomas_restantes if toma not in lista_actual]\n",
    "        dia += 1\n",
    "    \n",
    "    return dias_tomas\n",
    "\n",
    "def generar_vecino(solucion_actual, semillav=123):\n",
    "    random.seed(semillav)  # Establece la semilla para la generación aleatoria\n",
    "    vecino = solucion_actual.copy()\n",
    "    dias = list(vecino.keys())\n",
    "    dia1, dia2 = random.sample(dias, 2)\n",
    "    \n",
    "    if vecino[dia1] and vecino[dia2]:\n",
    "        toma1 = random.choice(vecino[dia1])\n",
    "        toma2 = random.choice(vecino[dia2])\n",
    "        vecino[dia1].remove(toma1)\n",
    "        vecino[dia1].append(toma2)\n",
    "        vecino[dia2].remove(toma2)\n",
    "        vecino[dia2].append(toma1)\n",
    "    \n",
    "    return vecino\n",
    "\n",
    "def tabu_search(datos_tomas_tabu, iteraciones, lista_tabu_tamano):\n",
    "    solucion_actual = generar_solucion_inicial(datos_tomas_tabu)\n",
    "    costo_actual = calcular_costo(solucion_actual, datos_tomas_tabu)\n",
    "    mejor_solucion = solucion_actual\n",
    "    mejor_costo = costo_actual\n",
    "    lista_tabu = []\n",
    "\n",
    "    for _ in range(iteraciones):\n",
    "        vecino = generar_vecino(solucion_actual)\n",
    "        costo_vecino = calcular_costo(vecino, datos_tomas_tabu)\n",
    "        \n",
    "        if vecino not in lista_tabu and (costo_vecino < costo_actual or costo_vecino < mejor_costo):\n",
    "            solucion_actual = vecino\n",
    "            costo_actual = costo_vecino\n",
    "            if costo_vecino < mejor_costo:\n",
    "                mejor_solucion = vecino\n",
    "                mejor_costo = costo_vecino\n",
    "            \n",
    "            lista_tabu.append(vecino)\n",
    "            if len(lista_tabu) > lista_tabu_tamano:\n",
    "                lista_tabu.pop(0)\n",
    "    \n",
    "    return mejor_solucion, mejor_costo\n",
    "\n",
    "# Parámetros de la Búsqueda Tabú\n",
    "iteraciones = 1000\n",
    "lista_tabu_tamano = 50\n",
    "\n",
    "# Ejecutar la Búsqueda Tabú\n",
    "mejor_solucion, mejor_costo = tabu_search(datos_tomas_tabu, iteraciones, lista_tabu_tamano)\n",
    "\n",
    "# Calcular actores diferentes que trabajan cada día\n",
    "actores_por_dia = calcular_actores_por_dia(mejor_solucion, datos_tomas_tabu)\n",
    "total_sueldos = sum(actores_por_dia.values())\n",
    "\n",
    "# Imprimir los resultados\n",
    "for dia, tomas in mejor_solucion.items():\n",
    "    print(f\"Día {dia}: {tomas}\")\n",
    "print(f\"Actores diferentes que trabajan cada día: {actores_por_dia}\")\n",
    "print(f\"Total de sueldos a pagar: {total_sueldos}\")"
   ]
  },
  {
   "cell_type": "markdown",
   "metadata": {},
   "source": [
    "He generado distintos juegos de datos, cada vez mas grandes, no incluyo aquí todas las pruebas. \n",
    "\n",
    "Creo que de verdad lo hace francamente bien y en muy buen tiempo, no se me cuelga. y los resultados que salen son muy buenos.\n",
    "\n",
    "Sinceramente, creo que he acertado y me ha gustado mucho hacerlo funcionar y ver qué sacaba, muy curioso y entiendes realmente la estrategia."
   ]
  }
 ],
 "metadata": {
  "colab": {
   "provenance": []
  },
  "kernelspec": {
   "display_name": "Python 3 (ipykernel)",
   "language": "python",
   "name": "python3"
  },
  "language_info": {
   "codemirror_mode": {
    "name": "ipython",
    "version": 3
   },
   "file_extension": ".py",
   "mimetype": "text/x-python",
   "name": "python",
   "nbconvert_exporter": "python",
   "pygments_lexer": "ipython3",
   "version": "3.11.7"
  }
 },
 "nbformat": 4,
 "nbformat_minor": 4
}
