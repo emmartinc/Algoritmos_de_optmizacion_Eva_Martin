{
  "cells": [
    {
      "cell_type": "markdown",
      "metadata": {
        "id": "view-in-github",
        "colab_type": "text"
      },
      "source": [
        "<a href=\"https://colab.research.google.com/github/emmartinc/Algoritmos_de_optmizacion_Eva_Martin/blob/main/Puertas%20cu%C3%A1nticas.ipynb\" target=\"_parent\"><img src=\"https://colab.research.google.com/assets/colab-badge.svg\" alt=\"Open In Colab\"/></a>"
      ]
    },
    {
      "cell_type": "code",
      "source": [
        "# Instalamos qiskit en el notebook\n",
        "!pip install qiskit qiskit-aer qiskit-ibm-runtime pylatexenc"
      ],
      "metadata": {
        "id": "NisH3zeBKoVe",
        "colab": {
          "base_uri": "https://localhost:8080/"
        },
        "outputId": "55c436e7-ac1a-4bb5-9b08-c42e1017a2c5"
      },
      "id": "NisH3zeBKoVe",
      "execution_count": 1,
      "outputs": [
        {
          "output_type": "stream",
          "name": "stdout",
          "text": [
            "Collecting qiskit\n",
            "  Downloading qiskit-2.0.3-cp39-abi3-manylinux_2_17_x86_64.manylinux2014_x86_64.whl.metadata (12 kB)\n",
            "Collecting qiskit-aer\n",
            "  Downloading qiskit_aer-0.17.1-cp311-cp311-manylinux_2_17_x86_64.manylinux2014_x86_64.whl.metadata (8.3 kB)\n",
            "Collecting qiskit-ibm-runtime\n",
            "  Downloading qiskit_ibm_runtime-0.40.1-py3-none-any.whl.metadata (21 kB)\n",
            "Collecting pylatexenc\n",
            "  Downloading pylatexenc-2.10.tar.gz (162 kB)\n",
            "\u001b[2K     \u001b[90m━━━━━━━━━━━━━━━━━━━━━━━━━━━━━━━━━━━━━━━\u001b[0m \u001b[32m162.6/162.6 kB\u001b[0m \u001b[31m3.0 MB/s\u001b[0m eta \u001b[36m0:00:00\u001b[0m\n",
            "\u001b[?25h  Preparing metadata (setup.py) ... \u001b[?25l\u001b[?25hdone\n",
            "Collecting rustworkx>=0.15.0 (from qiskit)\n",
            "  Downloading rustworkx-0.16.0-cp39-abi3-manylinux_2_17_x86_64.manylinux2014_x86_64.whl.metadata (10 kB)\n",
            "Requirement already satisfied: numpy<3,>=1.17 in /usr/local/lib/python3.11/dist-packages (from qiskit) (2.0.2)\n",
            "Requirement already satisfied: scipy>=1.5 in /usr/local/lib/python3.11/dist-packages (from qiskit) (1.15.3)\n",
            "Requirement already satisfied: sympy>=1.3 in /usr/local/lib/python3.11/dist-packages (from qiskit) (1.13.1)\n",
            "Requirement already satisfied: dill>=0.3 in /usr/local/lib/python3.11/dist-packages (from qiskit) (0.3.7)\n",
            "Requirement already satisfied: python-dateutil>=2.8.0 in /usr/local/lib/python3.11/dist-packages (from qiskit) (2.9.0.post0)\n",
            "Collecting stevedore>=3.0.0 (from qiskit)\n",
            "  Downloading stevedore-5.4.1-py3-none-any.whl.metadata (2.3 kB)\n",
            "Requirement already satisfied: typing-extensions in /usr/local/lib/python3.11/dist-packages (from qiskit) (4.14.0)\n",
            "Collecting symengine<0.14,>=0.11 (from qiskit)\n",
            "  Downloading symengine-0.13.0-cp311-cp311-manylinux_2_17_x86_64.manylinux2014_x86_64.whl.metadata (1.2 kB)\n",
            "Requirement already satisfied: psutil>=5 in /usr/local/lib/python3.11/dist-packages (from qiskit-aer) (5.9.5)\n",
            "Requirement already satisfied: requests>=2.19 in /usr/local/lib/python3.11/dist-packages (from qiskit-ibm-runtime) (2.32.3)\n",
            "Collecting requests-ntlm>=1.1.0 (from qiskit-ibm-runtime)\n",
            "  Downloading requests_ntlm-1.3.0-py3-none-any.whl.metadata (2.4 kB)\n",
            "Requirement already satisfied: urllib3>=1.21.1 in /usr/local/lib/python3.11/dist-packages (from qiskit-ibm-runtime) (2.4.0)\n",
            "Collecting ibm-platform-services>=0.22.6 (from qiskit-ibm-runtime)\n",
            "  Downloading ibm_platform_services-0.66.2-py3-none-any.whl.metadata (9.0 kB)\n",
            "Requirement already satisfied: pydantic>=2.5.0 in /usr/local/lib/python3.11/dist-packages (from qiskit-ibm-runtime) (2.11.7)\n",
            "Requirement already satisfied: packaging in /usr/local/lib/python3.11/dist-packages (from qiskit-ibm-runtime) (24.2)\n",
            "Collecting ibm_cloud_sdk_core<4.0.0,>=3.24.2 (from ibm-platform-services>=0.22.6->qiskit-ibm-runtime)\n",
            "  Downloading ibm_cloud_sdk_core-3.24.2-py3-none-any.whl.metadata (8.7 kB)\n",
            "Requirement already satisfied: annotated-types>=0.6.0 in /usr/local/lib/python3.11/dist-packages (from pydantic>=2.5.0->qiskit-ibm-runtime) (0.7.0)\n",
            "Requirement already satisfied: pydantic-core==2.33.2 in /usr/local/lib/python3.11/dist-packages (from pydantic>=2.5.0->qiskit-ibm-runtime) (2.33.2)\n",
            "Requirement already satisfied: typing-inspection>=0.4.0 in /usr/local/lib/python3.11/dist-packages (from pydantic>=2.5.0->qiskit-ibm-runtime) (0.4.1)\n",
            "Requirement already satisfied: six>=1.5 in /usr/local/lib/python3.11/dist-packages (from python-dateutil>=2.8.0->qiskit) (1.17.0)\n",
            "Requirement already satisfied: charset-normalizer<4,>=2 in /usr/local/lib/python3.11/dist-packages (from requests>=2.19->qiskit-ibm-runtime) (3.4.2)\n",
            "Requirement already satisfied: idna<4,>=2.5 in /usr/local/lib/python3.11/dist-packages (from requests>=2.19->qiskit-ibm-runtime) (3.10)\n",
            "Requirement already satisfied: certifi>=2017.4.17 in /usr/local/lib/python3.11/dist-packages (from requests>=2.19->qiskit-ibm-runtime) (2025.6.15)\n",
            "Requirement already satisfied: cryptography>=1.3 in /usr/local/lib/python3.11/dist-packages (from requests-ntlm>=1.1.0->qiskit-ibm-runtime) (43.0.3)\n",
            "Collecting pyspnego>=0.4.0 (from requests-ntlm>=1.1.0->qiskit-ibm-runtime)\n",
            "  Downloading pyspnego-0.11.2-py3-none-any.whl.metadata (5.4 kB)\n",
            "Collecting pbr>=2.0.0 (from stevedore>=3.0.0->qiskit)\n",
            "  Downloading pbr-6.1.1-py2.py3-none-any.whl.metadata (3.4 kB)\n",
            "Requirement already satisfied: mpmath<1.4,>=1.1.0 in /usr/local/lib/python3.11/dist-packages (from sympy>=1.3->qiskit) (1.3.0)\n",
            "Requirement already satisfied: cffi>=1.12 in /usr/local/lib/python3.11/dist-packages (from cryptography>=1.3->requests-ntlm>=1.1.0->qiskit-ibm-runtime) (1.17.1)\n",
            "Collecting requests>=2.19 (from qiskit-ibm-runtime)\n",
            "  Downloading requests-2.32.4-py3-none-any.whl.metadata (4.9 kB)\n",
            "Requirement already satisfied: PyJWT<3.0.0,>=2.10.1 in /usr/local/lib/python3.11/dist-packages (from ibm_cloud_sdk_core<4.0.0,>=3.24.2->ibm-platform-services>=0.22.6->qiskit-ibm-runtime) (2.10.1)\n",
            "Requirement already satisfied: setuptools in /usr/local/lib/python3.11/dist-packages (from pbr>=2.0.0->stevedore>=3.0.0->qiskit) (75.2.0)\n",
            "Requirement already satisfied: pycparser in /usr/local/lib/python3.11/dist-packages (from cffi>=1.12->cryptography>=1.3->requests-ntlm>=1.1.0->qiskit-ibm-runtime) (2.22)\n",
            "Downloading qiskit-2.0.3-cp39-abi3-manylinux_2_17_x86_64.manylinux2014_x86_64.whl (6.5 MB)\n",
            "\u001b[2K   \u001b[90m━━━━━━━━━━━━━━━━━━━━━━━━━━━━━━━━━━━━━━━━\u001b[0m \u001b[32m6.5/6.5 MB\u001b[0m \u001b[31m49.8 MB/s\u001b[0m eta \u001b[36m0:00:00\u001b[0m\n",
            "\u001b[?25hDownloading qiskit_aer-0.17.1-cp311-cp311-manylinux_2_17_x86_64.manylinux2014_x86_64.whl (12.4 MB)\n",
            "\u001b[2K   \u001b[90m━━━━━━━━━━━━━━━━━━━━━━━━━━━━━━━━━━━━━━━━\u001b[0m \u001b[32m12.4/12.4 MB\u001b[0m \u001b[31m74.7 MB/s\u001b[0m eta \u001b[36m0:00:00\u001b[0m\n",
            "\u001b[?25hDownloading qiskit_ibm_runtime-0.40.1-py3-none-any.whl (3.2 MB)\n",
            "\u001b[2K   \u001b[90m━━━━━━━━━━━━━━━━━━━━━━━━━━━━━━━━━━━━━━━━\u001b[0m \u001b[32m3.2/3.2 MB\u001b[0m \u001b[31m73.1 MB/s\u001b[0m eta \u001b[36m0:00:00\u001b[0m\n",
            "\u001b[?25hDownloading ibm_platform_services-0.66.2-py3-none-any.whl (363 kB)\n",
            "\u001b[2K   \u001b[90m━━━━━━━━━━━━━━━━━━━━━━━━━━━━━━━━━━━━━━━━\u001b[0m \u001b[32m363.9/363.9 kB\u001b[0m \u001b[31m24.3 MB/s\u001b[0m eta \u001b[36m0:00:00\u001b[0m\n",
            "\u001b[?25hDownloading requests_ntlm-1.3.0-py3-none-any.whl (6.6 kB)\n",
            "Downloading rustworkx-0.16.0-cp39-abi3-manylinux_2_17_x86_64.manylinux2014_x86_64.whl (2.1 MB)\n",
            "\u001b[2K   \u001b[90m━━━━━━━━━━━━━━━━━━━━━━━━━━━━━━━━━━━━━━━━\u001b[0m \u001b[32m2.1/2.1 MB\u001b[0m \u001b[31m62.8 MB/s\u001b[0m eta \u001b[36m0:00:00\u001b[0m\n",
            "\u001b[?25hDownloading stevedore-5.4.1-py3-none-any.whl (49 kB)\n",
            "\u001b[2K   \u001b[90m━━━━━━━━━━━━━━━━━━━━━━━━━━━━━━━━━━━━━━━━\u001b[0m \u001b[32m49.5/49.5 kB\u001b[0m \u001b[31m4.0 MB/s\u001b[0m eta \u001b[36m0:00:00\u001b[0m\n",
            "\u001b[?25hDownloading symengine-0.13.0-cp311-cp311-manylinux_2_17_x86_64.manylinux2014_x86_64.whl (49.7 MB)\n",
            "\u001b[2K   \u001b[90m━━━━━━━━━━━━━━━━━━━━━━━━━━━━━━━━━━━━━━━━\u001b[0m \u001b[32m49.7/49.7 MB\u001b[0m \u001b[31m16.6 MB/s\u001b[0m eta \u001b[36m0:00:00\u001b[0m\n",
            "\u001b[?25hDownloading ibm_cloud_sdk_core-3.24.2-py3-none-any.whl (75 kB)\n",
            "\u001b[2K   \u001b[90m━━━━━━━━━━━━━━━━━━━━━━━━━━━━━━━━━━━━━━━━\u001b[0m \u001b[32m75.8/75.8 kB\u001b[0m \u001b[31m3.4 MB/s\u001b[0m eta \u001b[36m0:00:00\u001b[0m\n",
            "\u001b[?25hDownloading requests-2.32.4-py3-none-any.whl (64 kB)\n",
            "\u001b[2K   \u001b[90m━━━━━━━━━━━━━━━━━━━━━━━━━━━━━━━━━━━━━━━━\u001b[0m \u001b[32m64.8/64.8 kB\u001b[0m \u001b[31m3.9 MB/s\u001b[0m eta \u001b[36m0:00:00\u001b[0m\n",
            "\u001b[?25hDownloading pbr-6.1.1-py2.py3-none-any.whl (108 kB)\n",
            "\u001b[2K   \u001b[90m━━━━━━━━━━━━━━━━━━━━━━━━━━━━━━━━━━━━━━━━\u001b[0m \u001b[32m109.0/109.0 kB\u001b[0m \u001b[31m8.8 MB/s\u001b[0m eta \u001b[36m0:00:00\u001b[0m\n",
            "\u001b[?25hDownloading pyspnego-0.11.2-py3-none-any.whl (130 kB)\n",
            "\u001b[2K   \u001b[90m━━━━━━━━━━━━━━━━━━━━━━━━━━━━━━━━━━━━━━━━\u001b[0m \u001b[32m130.5/130.5 kB\u001b[0m \u001b[31m10.1 MB/s\u001b[0m eta \u001b[36m0:00:00\u001b[0m\n",
            "\u001b[?25hBuilding wheels for collected packages: pylatexenc\n",
            "  Building wheel for pylatexenc (setup.py) ... \u001b[?25l\u001b[?25hdone\n",
            "  Created wheel for pylatexenc: filename=pylatexenc-2.10-py3-none-any.whl size=136817 sha256=768abc74f17351c9208c8283ce931e3588e9aa4f73cd2e0e2572aa625b315c13\n",
            "  Stored in directory: /root/.cache/pip/wheels/b1/7a/33/9fdd892f784ed4afda62b685ae3703adf4c91aa0f524c28f03\n",
            "Successfully built pylatexenc\n",
            "Installing collected packages: pylatexenc, symengine, rustworkx, requests, pbr, stevedore, ibm_cloud_sdk_core, qiskit, pyspnego, ibm-platform-services, requests-ntlm, qiskit-aer, qiskit-ibm-runtime\n",
            "  Attempting uninstall: requests\n",
            "    Found existing installation: requests 2.32.3\n",
            "    Uninstalling requests-2.32.3:\n",
            "      Successfully uninstalled requests-2.32.3\n",
            "\u001b[31mERROR: pip's dependency resolver does not currently take into account all the packages that are installed. This behaviour is the source of the following dependency conflicts.\n",
            "google-colab 1.0.0 requires requests==2.32.3, but you have requests 2.32.4 which is incompatible.\u001b[0m\u001b[31m\n",
            "\u001b[0mSuccessfully installed ibm-platform-services-0.66.2 ibm_cloud_sdk_core-3.24.2 pbr-6.1.1 pylatexenc-2.10 pyspnego-0.11.2 qiskit-2.0.3 qiskit-aer-0.17.1 qiskit-ibm-runtime-0.40.1 requests-2.32.4 requests-ntlm-1.3.0 rustworkx-0.16.0 stevedore-5.4.1 symengine-0.13.0\n"
          ]
        }
      ]
    },
    {
      "cell_type": "code",
      "execution_count": 2,
      "id": "interior-liver",
      "metadata": {
        "id": "interior-liver"
      },
      "outputs": [],
      "source": [
        "import numpy as np\n",
        "from math import sqrt\n",
        "\n",
        "# importing Qiskit\n",
        "from qiskit import QuantumCircuit, transpile\n",
        "from qiskit.quantum_info import Statevector, Operator\n",
        "from qiskit_aer import AerSimulator, UnitarySimulator, StatevectorSimulator\n",
        "\n",
        "# import basic plot tools\n",
        "from qiskit.visualization import plot_histogram\n",
        "\n",
        "\n",
        "# Funciones auxiliares\n",
        "# Función para obtener y mostrar el vector de estado\n",
        "def obten_estado(qcirc, etiqueta=\"|\\psi\\!\\!> = \", bloch=False):\n",
        "  estado = Statevector.from_instruction(qcirc)\n",
        "  display(estado.draw('latex', prefix=etiqueta, max_size=2**qc.num_qubits))\n",
        "  if bloch:\n",
        "    display(estado.draw('bloch'))\n",
        "\n",
        "# Funcion para obtener y mostrar la matriz unitaria\n",
        "def obten_unitaria(qcirc, etiqueta=\"U = \"):\n",
        "    unitary = Operator(qcirc)\n",
        "    display(unitary.draw('latex', prefix=etiqueta))"
      ]
    },
    {
      "cell_type": "markdown",
      "id": "closed-skill",
      "metadata": {
        "id": "closed-skill"
      },
      "source": [
        "#**Puertas cuánticas**\n",
        "\n",
        "Contenidos\n",
        "\n",
        "1. [Puertas clásicas vs cuánticas](#clasicascuanticas)\n",
        "  - [Puertas clásicas como matrices](#clasicas)\n",
        "  - [Computación reversible](#reversible)\n",
        "  - [Puertas cuánticas](#cuanticas)\n",
        " <p></p>\n",
        "1. [Puertas cuánticas de 1 cúbit](#1cubit)\n",
        "    + [Puertas notables](#notables)\n",
        "    - [Puertas como rotaciones en la esfera de Bloch](#bloch)\n",
        "    - [Puertas de 1 cúbit en un sistema multicúbit](#puertas1c)\n",
        " <p></p>\n",
        "1.  [Puertas controladas: CNOT](#cnot)\n",
        "    + [Creación de estados entrelazados](#bell)\n",
        "    + [Otras puertas controladas](#otrasp)\n",
        "    + [Phase-kickback](#kick)   \n",
        "<p></p>\n",
        "1. [Otras puertas](#otras)\n",
        "    + [Puerta swap](#swap)\n",
        "    + [Puertas para múltiples cúbits](#multiples)"
      ]
    },
    {
      "cell_type": "markdown",
      "id": "logical-mason",
      "metadata": {
        "id": "logical-mason"
      },
      "source": [
        "<a name=\"clasicascuanticas\"></a>\n",
        "# **Puertas clásicas vs cuánticas**\n",
        "\n",
        "Las puertas clásicas (NOT, AND, OR, NAN, EXOR) actúan sobre 1 (NOT) o 2 bits.\n",
        "\n",
        "Las principales puertas cuánticas también operan sobre 1 o 2 cúbits, manteniendo las restricciones impuestas por la física (reversibilidad)."
      ]
    },
    {
      "cell_type": "markdown",
      "id": "criminal-worship",
      "metadata": {
        "id": "criminal-worship"
      },
      "source": [
        "<a name=\"clasicas\"></a>\n",
        "## Puertas clásicas como matrices\n",
        "\n",
        "Podemos representar las puertas lógicas clásicas como matrices u operadores, tales que aplicados a un número binario obtienen un número binario.\n",
        "\n",
        "Por ejemplo:\n",
        "\n",
        "$$\n",
        "\\begin{aligned}\n",
        "\\text{NOT} &= \\begin{bmatrix}0 & 1\\\\ 1 & 0\\end{bmatrix}\\\\[10pt]\n",
        "\\text{AND} &= \\begin{bmatrix}1 & 1 & 1 & 0\\\\ 0 & 0 & 0 & 1\\end{bmatrix}\\\\[10pt]\n",
        "\\text{OR} &= \\begin{bmatrix}1 & 0 & 0 & 0\\\\ 0 & 1 & 1 & 1\\end{bmatrix}\\\\[10pt]\n",
        "\\end{aligned}\n",
        "$$\n",
        "\n",
        "Ejemplos:\n",
        "\n",
        "$$\n",
        "\\begin{aligned}\n",
        "\\text{NOT}|0\\rangle &= \\begin{bmatrix}0 & 1\\\\ 1 & 0\\end{bmatrix}\n",
        "\\begin{bmatrix} 1\\\\ 0\\end{bmatrix} = \\begin{bmatrix} 0\\\\ 1\\end{bmatrix} = |1\\rangle\n",
        "\\\\[10pt]\n",
        "\\text{AND}|11\\rangle &= \\begin{bmatrix}1 & 1 & 1 & 0\\\\ 0 & 0 & 0 & 1\\end{bmatrix}\n",
        "\\begin{bmatrix} 0\\\\ 0\\\\0\\\\1\\end{bmatrix} = \\begin{bmatrix}0\\\\1\\end{bmatrix} = |1\\rangle \\\\[10pt]\n",
        "\\text{AND}|01\\rangle &= \\begin{bmatrix}1 & 1 & 1 & 0\\\\ 1 & 0 & 0 & 1\\end{bmatrix}\n",
        "\\begin{bmatrix} 0\\\\ 1\\\\0\\\\0\\end{bmatrix} = \\begin{bmatrix} 1\\\\ 0\\end{bmatrix} = |0\\rangle \\\\[10pt]\n",
        "\\text{OR}|10\\rangle &= \\begin{bmatrix}1 & 0 & 0 & 0\\\\ 0 & 1 & 1 & 1\\end{bmatrix}\n",
        "\\begin{bmatrix} 0\\\\ 0\\\\1\\\\0\\end{bmatrix} = \\begin{bmatrix} 0\\\\1\\end{bmatrix} = |1\\rangle \\\\[10pt]\n",
        "\\text{OR}|11\\rangle &= \\begin{bmatrix}1 & 0 & 0 & 0\\\\ 0 & 1 & 1 & 1\\end{bmatrix}\n",
        "\\begin{bmatrix} 0\\\\ 0\\\\0\\\\1\\end{bmatrix} = \\begin{bmatrix} 0\\\\1\\end{bmatrix} = |1\\rangle\\\\[10pt]\n",
        "\\end{aligned}\n",
        "$$\n",
        "\n",
        "Podemos obtener la representación de un conjunto de puertas mediante operaciones de matrices. Por ejemplo:\n",
        "\n",
        "<center><img src=\"https://drive.google.com/uc?export=view&id=1ZwHOf-211JlZGff4w8GhFTatdJBtYrUC\" alt=\"Circuito con puertas clasicas\" width=\"300\"  /></center>\n",
        "\n",
        "La matriz equivalente a este circuito es:\n",
        "\n",
        "$$\n",
        "\\text{OR}\\cdot (\\text{NOT}\\otimes \\text{AND}) =\n",
        "\\begin{bmatrix}1 & 0 & 0 & 0\\\\ 0 & 1 & 1 & 1\\end{bmatrix}\n",
        "\\left(\n",
        "\\begin{bmatrix}0 & 1\\\\ 1 & 0\\end{bmatrix}\\otimes\n",
        "\\begin{bmatrix}1 & 1 & 1 & 0\\\\ 0 & 0 & 0 & 1\\end{bmatrix}\n",
        "\\right) = \\\\[10pt]\n",
        "\\begin{bmatrix}1 & 0 & 0 & 0\\\\ 0 & 1 & 1 & 1\\end{bmatrix}\n",
        "\\begin{bmatrix}\n",
        "0 & 0 & 0 & 0 & 1 & 1 & 1 & 0\\\\\n",
        "0 & 0 & 0 & 0 & 0 & 0 & 0 & 1\\\\\n",
        "1 & 1 & 1 & 0 & 0 & 0 & 0 & 0\\\\\n",
        "0 & 0 & 0 & 1 & 0 & 0 & 0 & 0\n",
        "\\end{bmatrix} =\n",
        "\\begin{bmatrix}\n",
        "0 & 0 & 0 & 0 & 1 & 1 & 1 & 0\\\\\n",
        "1 & 1 & 1 & 1 & 0 & 0 & 0 & 1\n",
        "\\end{bmatrix}\n",
        "$$\n",
        "\n",
        "Es decir, las puertas en paralelo se combinan usando el producto tensor y en serie el producto matricial."
      ]
    },
    {
      "cell_type": "markdown",
      "id": "local-trick",
      "metadata": {
        "id": "local-trick"
      },
      "source": [
        "<a name=\"reversible\"></a>\n",
        "## Computación reversible\n",
        "\n",
        "Las puertas clásicas, exceptuando la puerta NOT, son no-reversibles: no es posible obtener la entrada a partir de los valores de salida.\n",
        "\n",
        "También puede verse en que las matrices, excepto la NOT, no son invertibles.\n",
        "\n",
        "El modelo de [computación reversible](https://en.wikipedia.org/wiki/Reversible_computing) substituye las puertas clásicas por sus equivalentes reversibles:\n",
        "\n",
        "<center><img src=\"https://drive.google.com/uc?export=view&id=1kZGt2hLqpdlg6YTOfy9xOTWb3y9UX_FV\" alt=\"Puertas reversibles\" width=\"500\"  /></center>\n",
        "\n",
        "Al bit auxiliar en la AND y NAND se le llama *bit ancilla*.\n",
        "\n",
        "La [puerta Toffoli](https://en.wikipedia.org/wiki/Toffoli_gate) es universal: cualquier circuito booleano se puede expresar usando solo puertas Toffoli.\n",
        "\n",
        "Otra puerta universal reversible es la [puerta Fredkin](https://en.wikipedia.org/wiki/Fredkin_gate) o Controlled-SWAP:\n",
        "\n",
        "<center><img src=\"https://drive.google.com/uc?export=view&id=1ySJHdoVX3aTAc7DPSu9WsNRY8ehay0Wv\" alt=\"Puerta Fredkin\" width=\"100\"  /></center>\n",
        "\n",
        "La matriz de una puerta CNOT es:\n",
        "\n",
        "$$ CNOT =\n",
        "\\begin{bmatrix}\n",
        "1 & 0 & 0 & 0 \\\\\n",
        "0 & 0 & 0 & 1 \\\\\n",
        "0 & 0 & 1 & 0 \\\\\n",
        "0 & 1 & 0 & 0\n",
        "\\end{bmatrix}\n",
        "$$\n",
        "\n",
        "Así, si $|BA\\rangle = |01\\rangle$:\n",
        "\n",
        "$$ CNOT|BA\\rangle = CNOT|01\\rangle =\n",
        "\\begin{bmatrix}\n",
        "1 & 0 & 0 & 0 \\\\\n",
        "0 & 0 & 0 & 1 \\\\\n",
        "0 & 0 & 1 & 0 \\\\\n",
        "0 & 1 & 0 & 0\n",
        "\\end{bmatrix}\n",
        "\\begin{bmatrix}0 \\\\1\\\\0\\\\0 \\end{bmatrix} = \\begin{bmatrix}0 \\\\ 0 \\\\ 0 \\\\ 1 \\end{bmatrix} = |11\\rangle\n",
        "$$\n",
        "\n",
        "Se puede comprobar que $CNOT = CNOT^{-1}$\n",
        "\n",
        "### Convertir puertas irreversibles en reversibles\n",
        "\n",
        "Cualquier puerta que implemente una funcón $f(x)$, con $x\\in \\{0,1\\}^n$ puede convertirse en reversible usando bits ancilla:\n",
        "\n",
        "<center><img src=\"https://drive.google.com/uc?export=view&id=1ckdPqv6_TpfSsTsqwCdAb7bPLpg0E7RA\" alt=\"Puertas reversible\" width=\"300\"  /></center>\n",
        "\n"
      ]
    },
    {
      "cell_type": "markdown",
      "id": "hawaiian-blond",
      "metadata": {
        "id": "hawaiian-blond"
      },
      "source": [
        "<a name=\"cuanticas\"></a>\n",
        "## Puertas cuánticas\n",
        "\n",
        "Debido al requisito de reversibilidad de las operaciones con cúbits, no es posible usar las puertas clásicas, exceptuando la NOT, pero sí es posible usar sus versiones reversibles.\n",
        "\n",
        "Las puertas que actúan sobre cúbits tienen, además, que conservar la norma del vector. Puertas que cumplan ambas condiciones se pueden representar mediante matrices unitarias.\n",
        "\n",
        "Una matriz unitaria $U$ que actúa sobre un estado cuántico de $n$ cúbits es una matriz $2^n\\times 2^n$ que verifica  $U^\\dagger U = UU^\\dagger = I$, siendo $U^\\dagger$ la conjugada transpuesta de $U$.\n",
        "\n",
        "La inversa de $U$ por lo tanto es $U^{-1} = U^\\dagger$\n",
        "\n",
        "La puerta se aplica al estado mediante un producto matriz-vector:\n",
        "$$\n",
        "|\\Phi\\rangle = U|\\psi\\rangle = \\begin{bmatrix}u_{00} & u_{01} \\\\ u_{10} & u_{11} \\end{bmatrix}\\begin{bmatrix}a_{0} \\\\ a_{1}\\end{bmatrix}\n",
        "$$"
      ]
    },
    {
      "cell_type": "markdown",
      "source": [
        "\n",
        "\n",
        "---\n",
        "\n",
        "\n",
        "\n",
        "---\n",
        "\n",
        "\n",
        "\n",
        "---\n",
        "\n"
      ],
      "metadata": {
        "id": "FHtc5E1C5mi0"
      },
      "id": "FHtc5E1C5mi0"
    },
    {
      "cell_type": "markdown",
      "id": "rocky-dominant",
      "metadata": {
        "id": "rocky-dominant"
      },
      "source": [
        "<a name=\"1cubit\"></a>\n",
        "# **Puertas cuánticas de 1 cúbit**\n",
        "\n",
        "Para bits, la única puerta de 1 bit es la NOT.\n",
        "\n",
        "Para cúbits existen, en principio, infinitas puertas que modifican el estado del mismo (todas las matrices unitarias 2x2)."
      ]
    },
    {
      "cell_type": "markdown",
      "id": "hidden-holly",
      "metadata": {
        "id": "hidden-holly"
      },
      "source": [
        "<a name=\"notables\"></a>\n",
        "## Puertas notables\n",
        "\n",
        "### Puertas (o matrices) de Pauli\n",
        "\n",
        "$$\n",
        "\\sigma_0\\equiv I = \\begin{bmatrix}1 & 0\\\\0 & 1\\end{bmatrix}\n",
        "$$\n",
        "\n",
        "$$\n",
        "\\sigma_1\\equiv\\sigma_x\\equiv X \\equiv NOT = \\begin{bmatrix}0 & 1\\\\1 & 0\\end{bmatrix}\n",
        "$$\n",
        "\n",
        "$$\n",
        "\\sigma_2\\equiv \\sigma_y \\equiv Y = \\begin{bmatrix}0 & -i\\\\i & 0\\end{bmatrix}\n",
        "$$\n",
        "\n",
        "$$\n",
        "\\sigma_3\\equiv\\sigma_z\\equiv Z = \\begin{bmatrix}1 & 0\\\\0 & -1\\end{bmatrix}\n",
        "$$\n",
        "\n",
        "Estas matrices son involutivas: $X^2=Y^2=Z^2=-iXYZ=I$\n",
        "\n",
        "----------------------------------------------------------\n",
        "\n",
        "**Ejemplos**\n",
        "\n",
        "Puerta X (NOT en base $\\{|0\\rangle,|1\\rangle\\}$)\n",
        "\n",
        "$$\n",
        "\\begin{aligned}\n",
        "X|0\\rangle = \\begin{bmatrix}0 & 1\\\\1 & 0\\end{bmatrix}\\begin{bmatrix}1 \\\\ 0\\end{bmatrix} = \\begin{bmatrix}0 \\\\ 1\\end{bmatrix} = |1\\rangle \\\\[10pt]\n",
        "X|1\\rangle = \\begin{bmatrix}0 & 1\\\\1 & 0\\end{bmatrix}\\begin{bmatrix}0 \\\\ 1\\end{bmatrix} = \\begin{bmatrix}1 \\\\ 0\\end{bmatrix} = |0\\rangle\n",
        "\\end{aligned}\n",
        "$$\n",
        "\n",
        "Puerta Z (_phase shift_ de $\\pi$ radianes o NOT en base $\\{|+\\rangle,|-\\rangle\\}$)\n",
        "\n",
        "$$\n",
        "\\begin{aligned}\n",
        "Z|+\\rangle = \\tfrac{1}{\\sqrt{2}}\\begin{bmatrix}1 & 0\\\\0 & -1\\end{bmatrix}\\begin{bmatrix}1 \\\\ 1\\end{bmatrix} = \\tfrac{1}{\\sqrt{2}}\\begin{bmatrix}1 \\\\ -1\\end{bmatrix} = |-\\rangle \\\\[10pt]\n",
        "Z|-\\rangle = \\tfrac{1}{\\sqrt{2}}\\begin{bmatrix}1 & 0\\\\0 & -1\\end{bmatrix}\\begin{bmatrix}1 \\\\ -1\\end{bmatrix} = \\tfrac{1}{\\sqrt{2}}\\begin{bmatrix}1 \\\\ 1\\end{bmatrix} = |+\\rangle\n",
        "\\end{aligned}\n",
        "$$\n",
        "\n",
        "----------------------------------------------------------"
      ]
    },
    {
      "cell_type": "markdown",
      "id": "continuous-accused",
      "metadata": {
        "id": "continuous-accused"
      },
      "source": [
        "### Puertas cuánticas en Qiskit\n",
        "\n",
        "En Qiskit, los cúbits se inicializan a $|0\\rangle$ por defecto y se aplican puertas para obtener el estado deseado."
      ]
    },
    {
      "cell_type": "code",
      "execution_count": 3,
      "id": "duplicate-account",
      "metadata": {
        "id": "duplicate-account",
        "colab": {
          "base_uri": "https://localhost:8080/",
          "height": 127
        },
        "outputId": "22350b32-18c1-4a02-8e60-fadc31873e6e"
      },
      "outputs": [
        {
          "output_type": "execute_result",
          "data": {
            "text/plain": [
              "<Figure size 185.453x117.056 with 1 Axes>"
            ],
            "image/png": "[encoded data removed]"
          },
          "metadata": {},
          "execution_count": 3
        }
      ],
      "source": [
        "# Circuito de 1 cúbit en el estado |0> con una puerta X\n",
        "qc = QuantumCircuit(1)\n",
        "\n",
        "# Aplicamos la puerta X al cúbit\n",
        "qc.x(0)\n",
        "\n",
        "qc.draw('mpl')"
      ]
    },
    {
      "cell_type": "code",
      "execution_count": 4,
      "id": "northern-fantasy",
      "metadata": {
        "id": "northern-fantasy",
        "colab": {
          "base_uri": "https://localhost:8080/",
          "height": 38
        },
        "outputId": "5450f52a-f1ff-4e36-d8d9-7d42671db318"
      },
      "outputs": [
        {
          "output_type": "display_data",
          "data": {
            "text/plain": [
              "<IPython.core.display.Latex object>"
            ],
            "text/latex": "$$X|0\\rangle =  |1\\rangle$$"
          },
          "metadata": {}
        }
      ],
      "source": [
        "# La funcion obten estado muestra el estado y la esfera de Bloch\n",
        "obten_estado(qc, \"X|0\\\\rangle = \")"
      ]
    },
    {
      "cell_type": "code",
      "source": [
        "# Otra forma de obtener el estado de salida\n",
        "e0 = Statevector.from_int(0, dims=2)\n",
        "salida = e0.evolve(qc)\n",
        "salida.draw('latex', prefix=\"X|0\\\\rangle = \")"
      ],
      "metadata": {
        "id": "H5ca2XyuylsL",
        "colab": {
          "base_uri": "https://localhost:8080/",
          "height": 38
        },
        "outputId": "82d16fd7-a33f-468e-aba4-c4df5069d71a"
      },
      "id": "H5ca2XyuylsL",
      "execution_count": 5,
      "outputs": [
        {
          "output_type": "execute_result",
          "data": {
            "text/plain": [
              "<IPython.core.display.Latex object>"
            ],
            "text/latex": "$$X|0\\rangle =  |1\\rangle$$"
          },
          "metadata": {},
          "execution_count": 5
        }
      ]
    },
    {
      "cell_type": "markdown",
      "id": "sought-member",
      "metadata": {
        "id": "sought-member"
      },
      "source": [
        "### Ejercicio: Puerta Z\n",
        "Crea un circuito de 1 cúbit en estado $|+\\rangle$, aplícale una puerta $Z$ y obtén el vector de estado de salida."
      ]
    },
    {
      "cell_type": "code",
      "execution_count": 8,
      "id": "sharp-inspector",
      "metadata": {
        "id": "sharp-inspector",
        "colab": {
          "base_uri": "https://localhost:8080/",
          "height": 150
        },
        "outputId": "222ded07-58ff-4a0b-ecd9-41f83ab5f7e6"
      },
      "outputs": [
        {
          "output_type": "display_data",
          "data": {
            "text/plain": [
              "<Figure size 352.675x117.056 with 1 Axes>"
            ],
            "image/png": "[encoded data removed]"
          },
          "metadata": {}
        },
        {
          "output_type": "display_data",
          "data": {
            "text/plain": [
              "<IPython.core.display.Latex object>"
            ],
            "text/latex": "$$Z|+\\rangle = \\frac{\\sqrt{2}}{2} |0\\rangle- \\frac{\\sqrt{2}}{2} |1\\rangle$$"
          },
          "metadata": {}
        }
      ],
      "source": [
        "# Circuito de 1 cúbit en el estado |+> con una puerta Z\n",
        "from math import sqrt\n",
        "from qiskit.quantum_info import Statevector\n",
        "from qiskit import QuantumCircuit\n",
        "from qiskit.visualization import plot_bloch_multivector\n",
        "\n",
        "# Circuito de 1 cúbit en el estado |+> con una puerta Z\n",
        "qc = QuantumCircuit(1)\n",
        "# Inicializa el circuito al estado |+>\n",
        "qc.initialize(Statevector([1/sqrt(2), 1/sqrt(2)]), 0)\n",
        "\n",
        "# Aplicamos la puerta Z al cúbit\n",
        "qc.z(0)\n",
        "\n",
        "# Muestra el circuito y el estado\n",
        "display(qc.draw('mpl'))\n",
        "obten_estado(qc, \"Z|+\\\\rangle = \")"
      ]
    },
    {
      "cell_type": "markdown",
      "id": "roman-judges",
      "metadata": {
        "id": "roman-judges"
      },
      "source": [
        "### Aplicación de varias puertas\n",
        "\n",
        "Al igual que en el caso clásico, si aplicamos varias puertas sobre un mismo cúbit la matriz equivalente será el producto de las matrices de cada puerta.\n",
        "\n",
        "Qiskit proporciona un `simulador unitario`que obtiene esa matriz por nosotros:"
      ]
    },
    {
      "cell_type": "code",
      "execution_count": 9,
      "id": "uniform-conversion",
      "metadata": {
        "id": "uniform-conversion",
        "colab": {
          "base_uri": "https://localhost:8080/",
          "height": 127
        },
        "outputId": "bf8ecb17-0f51-4e49-8f89-d46333d62871"
      },
      "outputs": [
        {
          "output_type": "execute_result",
          "data": {
            "text/plain": [
              "<Figure size 269.064x117.056 with 1 Axes>"
            ],
            "image/png": "[encoded data removed]"
          },
          "metadata": {},
          "execution_count": 9
        }
      ],
      "source": [
        "# Circuito con varias puertas simples y obtenemos la matriz unitaria equivalente\n",
        "qc = QuantumCircuit(1)\n",
        "qc.y(0)\n",
        "qc.z(0)\n",
        "\n",
        "qc.draw('mpl')"
      ]
    },
    {
      "cell_type": "code",
      "source": [
        "# Obtenemos la matriz unitaria equivalente\n",
        "unitary = Operator(qc)\n",
        "unitary.draw('latex', prefix=\"ZY = \")"
      ],
      "metadata": {
        "id": "V6ioU29nYYym",
        "colab": {
          "base_uri": "https://localhost:8080/",
          "height": 58
        },
        "outputId": "e8b63728-ea49-43ab-caeb-e6e62058bdcb"
      },
      "id": "V6ioU29nYYym",
      "execution_count": 10,
      "outputs": [
        {
          "output_type": "execute_result",
          "data": {
            "text/plain": [
              "<IPython.core.display.Latex object>"
            ],
            "text/latex": "$$\nZY = \n\\begin{bmatrix}\n0 & - i  \\\\\n - i & 0  \\\\\n \\end{bmatrix}\n$$"
          },
          "metadata": {},
          "execution_count": 10
        }
      ]
    },
    {
      "cell_type": "code",
      "source": [
        "# Otra forma de hacerlo usando Aer\n",
        "# Circuito con varias puertas simples y obtenemos la matriz unitaria equivalente\n",
        "qc = QuantumCircuit(1)\n",
        "qc.y(0)\n",
        "qc.z(0)\n",
        "\n",
        "#En este caso, necesito indicar que se salve la matriz unitaria\n",
        "qc.save_unitary()\n",
        "\n",
        "from qiskit_aer import AerSimulator\n",
        "\n",
        "sim_u = AerSimulator(method='unitary')\n",
        "\n",
        "result = sim_u.run(transpile(qc,sim_u)).result()\n",
        "unitary = result.get_unitary(qc)\n",
        "unitary.draw('latex', prefix=\"ZY = \")"
      ],
      "metadata": {
        "id": "3-YbHuVFBEa6",
        "colab": {
          "base_uri": "https://localhost:8080/",
          "height": 58
        },
        "outputId": "5c3c051b-f47f-4df2-9f37-3d061215588c"
      },
      "id": "3-YbHuVFBEa6",
      "execution_count": 11,
      "outputs": [
        {
          "output_type": "execute_result",
          "data": {
            "text/plain": [
              "<IPython.core.display.Latex object>"
            ],
            "text/latex": "$$\nZY = \n\\begin{bmatrix}\n0 & - i  \\\\\n - i & 0  \\\\\n \\end{bmatrix}\n$$"
          },
          "metadata": {},
          "execution_count": 11
        }
      ]
    },
    {
      "cell_type": "markdown",
      "id": "innovative-threat",
      "metadata": {
        "id": "innovative-threat"
      },
      "source": [
        "Debido a que el producto de matrices no es conmutativo, al obtener la matriz equivalente, tenemos que tener en cuenta que el orden en el que se aplican las puertas:"
      ]
    },
    {
      "cell_type": "code",
      "execution_count": 12,
      "id": "awful-profit",
      "metadata": {
        "id": "awful-profit",
        "colab": {
          "base_uri": "https://localhost:8080/",
          "height": 127
        },
        "outputId": "e2dd5013-5d70-42a4-d98d-c1e3635c043a"
      },
      "outputs": [
        {
          "output_type": "execute_result",
          "data": {
            "text/plain": [
              "<Figure size 269.064x117.056 with 1 Axes>"
            ],
            "image/png": "[encoded data removed]"
          },
          "metadata": {},
          "execution_count": 12
        }
      ],
      "source": [
        "# Circuito con dos puertas y obtenemos la matriz unitaria equivalente\n",
        "qc = QuantumCircuit(1)\n",
        "qc.z(0)\n",
        "qc.y(0)\n",
        "qc.draw('mpl')"
      ]
    },
    {
      "cell_type": "code",
      "source": [
        "# Uso la función obten_unitaria definida al principio del notebook\n",
        "obten_unitaria(qc, \"YZ = \")"
      ],
      "metadata": {
        "id": "WZEFwDoi_5Zn",
        "colab": {
          "base_uri": "https://localhost:8080/",
          "height": 58
        },
        "outputId": "c1dd76c3-b440-40af-db66-56c3ab9fc753"
      },
      "id": "WZEFwDoi_5Zn",
      "execution_count": 13,
      "outputs": [
        {
          "output_type": "display_data",
          "data": {
            "text/plain": [
              "<IPython.core.display.Latex object>"
            ],
            "text/latex": "$$\nYZ = \n\\begin{bmatrix}\n0 & i  \\\\\n i & 0  \\\\\n \\end{bmatrix}\n$$"
          },
          "metadata": {}
        }
      ]
    },
    {
      "cell_type": "markdown",
      "id": "upper-keeping",
      "metadata": {
        "id": "upper-keeping"
      },
      "source": [
        "### Puerta _phase shift_ <a id=\"phase\"></a>\n",
        "\n",
        "Puertas que cambian la fase relativa:\n",
        "\n",
        "$$\n",
        "R_\\theta  = \\begin{bmatrix}1 & 0 \\\\ 0 & e^{i\\theta} \\end{bmatrix}\n",
        "$$\n",
        "\n",
        "La inversa de $R_\\theta$ es su conjugada traspuesta:\n",
        "$$\n",
        "R_\\theta^\\dagger = \\begin{bmatrix}1 & 0 \\\\ 0 & e^{-i\\theta} \\end{bmatrix}\n",
        "$$\n",
        "\n",
        "\n",
        "\n",
        "---\n",
        "\n",
        "\n",
        "**Ejemplo:**\n",
        "\n",
        "$$\n",
        "R_\\theta|+\\rangle = \\tfrac{1}{\\sqrt{2}}\\begin{bmatrix}1 & 0 \\\\ 0 & e^{i\\theta} \\end{bmatrix}\\begin{bmatrix}1 \\\\ 1\\end{bmatrix} = \\tfrac{1}{\\sqrt{2}}\\begin{bmatrix}1 \\\\ e^{i\\theta}\\end{bmatrix} = \\tfrac{1}{\\sqrt{2}}(|0\\rangle + e^{i\\theta}|1\\rangle)\n",
        "$$\n",
        "\n",
        "\n",
        "\n",
        "---\n",
        "\n",
        "\n",
        "Casos particulares:\n",
        "\n",
        "$$\n",
        "Z = R_\\pi = \\begin{bmatrix}1 & 0 \\\\ 0 & e^{i\\pi} \\end{bmatrix} = \\begin{bmatrix}1 & 0 \\\\ 0 & -1 \\end{bmatrix}\n",
        "$$\n",
        "\n",
        "$$\n",
        "S = R_{\\pi/2} = \\begin{bmatrix}1 & 0 \\\\ 0 & e^{i\\pi/2} \\end{bmatrix} = \\begin{bmatrix}1 & 0 \\\\ 0 & i \\end{bmatrix} = \\sqrt{Z}\n",
        "$$\n",
        "\n",
        "$$\n",
        "T = R_{\\pi/4} = \\begin{bmatrix}1 & 0 \\\\ 0 & e^{i\\pi/4} \\end{bmatrix} = \\sqrt{S}\n",
        "$$\n"
      ]
    },
    {
      "cell_type": "code",
      "execution_count": 14,
      "id": "98607e3e",
      "metadata": {
        "id": "98607e3e",
        "colab": {
          "base_uri": "https://localhost:8080/",
          "height": 168
        },
        "outputId": "de4ef388-05e3-491a-9129-92eef464c08d"
      },
      "outputs": [
        {
          "output_type": "display_data",
          "data": {
            "text/plain": [
              "<Figure size 185.453x117.056 with 1 Axes>"
            ],
            "image/png": "[encoded data removed]"
          },
          "metadata": {}
        },
        {
          "output_type": "display_data",
          "data": {
            "text/plain": [
              "<IPython.core.display.Latex object>"
            ],
            "text/latex": "$$\nR_{3\\pi/2} = \n\\begin{bmatrix}\n1 & 0  \\\\\n 0 & - i  \\\\\n \\end{bmatrix}\n$$"
          },
          "metadata": {}
        }
      ],
      "source": [
        "# Ejemplo: rotación 3𝜋/2\n",
        "import numpy as np\n",
        "qc = QuantumCircuit(1)\n",
        "theta = 3*np.pi/2\n",
        "qc.p(theta, 0)\n",
        "display(qc.draw('mpl'))\n",
        "obten_unitaria(qc, \"R_{3\\pi/2} = \")"
      ]
    },
    {
      "cell_type": "markdown",
      "id": "subjective-gross",
      "metadata": {
        "id": "subjective-gross"
      },
      "source": [
        "### Puerta Hadamard <a id=\"hada\"></a>\n",
        "\n",
        "$$\n",
        "H = \\tfrac{1}{\\sqrt{2}}\\begin{bmatrix}1 & 1 \\\\ 1 & -1 \\end{bmatrix}\n",
        "$$\n",
        "\n",
        "Esta puerta permite transformar un estado simple ($|0\\rangle$ o $|1\\rangle$) en un estado en superposición.\n",
        "\n",
        "\n",
        "---\n",
        "\n",
        "\n",
        "**Ejemplos**\n",
        "\n",
        "$$\n",
        "H|0\\rangle = \\tfrac{1}{\\sqrt{2}}\\begin{bmatrix}1 & 1 \\\\ 1 & -1 \\end{bmatrix} \\begin{bmatrix}1 \\\\ 0 \\end{bmatrix} =  \\tfrac{1}{\\sqrt{2}}\\begin{bmatrix}1 \\\\ 1 \\end{bmatrix} = \\tfrac{1}{\\sqrt{2}}(|0\\rangle+|1\\rangle) =  |+\\rangle\n",
        "$$\n",
        "\n",
        "$$\n",
        "H|1\\rangle = \\tfrac{1}{\\sqrt{2}}\\begin{bmatrix}1 & 1 \\\\ 1 & -1 \\end{bmatrix} \\begin{bmatrix}0 \\\\ 1 \\end{bmatrix} =  \\tfrac{1}{\\sqrt{2}}\\begin{bmatrix}1 \\\\ -1 \\end{bmatrix} = \\tfrac{1}{\\sqrt{2}}(|0\\rangle-|1\\rangle) =  |-\\rangle\n",
        "$$\n",
        "\n",
        "\n",
        "---\n"
      ]
    },
    {
      "cell_type": "markdown",
      "id": "competitive-statement",
      "metadata": {
        "id": "competitive-statement"
      },
      "source": [
        "### Ejercicio: puerta H\n",
        "\n",
        "Crea un circuito de 1 cúbit en estado $|0\\rangle$ (por defecto), aplícale una puerta $H$ y obtén el vector de estado de salida."
      ]
    },
    {
      "cell_type": "code",
      "execution_count": 18,
      "id": "political-dating",
      "metadata": {
        "id": "political-dating",
        "colab": {
          "base_uri": "https://localhost:8080/",
          "height": 150
        },
        "outputId": "5005e548-bf58-4105-c0b8-4d861ad433a4"
      },
      "outputs": [
        {
          "output_type": "display_data",
          "data": {
            "text/plain": [
              "<Figure size 269.064x117.056 with 1 Axes>"
            ],
            "image/png": "[encoded data removed]"
          },
          "metadata": {}
        },
        {
          "output_type": "display_data",
          "data": {
            "text/plain": [
              "<IPython.core.display.Latex object>"
            ],
            "text/latex": "$$H|0\\rangle = \\frac{\\sqrt{2}}{2} |0\\rangle+\\frac{\\sqrt{2}}{2} |1\\rangle$$"
          },
          "metadata": {}
        }
      ],
      "source": [
        "# Crea un circuito de 1 cúbit para obtener el estado |+>\n",
        "qc = QuantumCircuit(1)\n",
        "\n",
        "# Inicializa el circuito al estado |0>\n",
        "qc.initialize(Statevector([1,0]), 0)\n",
        "\n",
        "# Aplicamos la puerta correspondiente al cúbit\n",
        "qc.h(0)\n",
        "\n",
        "display(qc.draw('mpl'))\n",
        "\n",
        "obten_estado(qc, \"H|0\\\\rangle = \")"
      ]
    },
    {
      "cell_type": "markdown",
      "id": "smaller-accommodation",
      "metadata": {
        "id": "smaller-accommodation"
      },
      "source": [
        "<a name=\"bloch\"></a>\n",
        "## Puertas como rotaciones en la esfera de Bloch\n",
        "\n",
        "Las puertas pueden verse como una rotación del cúbit en la esfera de Bloch:\n",
        "\n",
        "- $X$, $Y$, $Z$: rota un ángulo $\\pi$ alrededor del eje X, Y o Z, respectivamente\n",
        "- $R_\\theta$ o $R_z(\\theta)$: rota un ángulo $\\theta$ alrededor del eje Z\n",
        "- $S$: rota $\\tfrac{\\pi}{2}$ alrededor del eje Z\n",
        "- $T$: rota $\\tfrac{\\pi}{4}$ alrededor del eje Z\n",
        "- $H$:  combinación de dos rotaciones: primero $\\pi$ alrededor de Z seguida de $\\pi/2$ alrededor de y\n",
        "\n",
        "En general, existen infinitas puertas. Las más usadas son rotaciones alrededor de Z, simplemente por usar como base estándar $\\{|0\\rangle,|1\\rangle\\}$, pero también existen $R_x(\\phi)$ y $R_y(\\phi)$. Estas rotaciones se pueden expresar como exponenciales de las matrices de Pauli:\n",
        "\n",
        "$$\n",
        "R_x(\\theta) = e^{-i\\theta \\sigma_x/2} = \\cos\\frac{\\theta}{2}I-i\\sin\\frac{\\theta}{2}\\sigma_x =\n",
        "\\begin{bmatrix}\n",
        "\\cos\\frac{\\theta}{2}   & -i\\sin\\frac{\\theta}{2}\\\\\n",
        "-i\\sin\\frac{\\theta}{2} & \\cos\\frac{\\theta}{2}\n",
        "\\end{bmatrix}\n",
        "$$\n",
        "\n",
        "$$\n",
        "R_y(\\theta) = e^{-i\\theta \\sigma_y/2} = \\cos\\frac{\\theta}{2}I-i\\sin\\frac{\\theta}{2}\\sigma_y =\n",
        "\\begin{bmatrix}\n",
        "\\cos\\frac{\\theta}{2}   & -\\sin\\frac{\\theta}{2}\\\\\n",
        "\\sin\\frac{\\theta}{2} & \\cos\\frac{\\theta}{2}\n",
        "\\end{bmatrix}\n",
        "$$\n",
        "\n",
        "$$\n",
        "\\begin{aligned}\n",
        "R_z(\\theta) & = e^{-i\\theta \\sigma_z/2} = \\cos\\frac{\\theta}{2}I-i\\sin\\frac{\\theta}{2}\\sigma_z =\n",
        "\\begin{bmatrix}\n",
        "e^{-i\\frac{\\theta}{2}}   & 0\\\\\n",
        "0 & e^{i\\frac{\\theta}{2}}\n",
        "\\end{bmatrix} \\\\\n",
        "&=\n",
        "e^{-i\\frac{\\theta}{2}} \\begin{bmatrix}\n",
        "1   & 0\\\\\n",
        "0 & e^{i\\theta}\n",
        "\\end{bmatrix}= e^{-i\\frac{\\theta}{2}}R_\\theta\n",
        "\\end{aligned}\n",
        "$$\n",
        "\n",
        "Así, la puerta $H$ puede escribirse como:\n",
        "$$\n",
        "\\begin{aligned}\n",
        "H &= R_y(\\tfrac{\\pi}{2})R_z(\\pi) =\n",
        "\\begin{bmatrix}\n",
        "\\cos\\frac{\\pi}{4}   & -\\sin\\frac{\\pi}{4}\\\\\n",
        "\\sin\\frac{\\pi}{4} & \\cos\\frac{\\pi}{4}\n",
        "\\end{bmatrix}\n",
        "\\begin{bmatrix}\n",
        "1   & 0\\\\\n",
        "0 & e^{i\\pi}\n",
        "\\end{bmatrix} \\\\[10pt] &=\n",
        "\\frac{1}{\\sqrt{2}}\n",
        "\\begin{bmatrix}\n",
        "1   & -1\\\\\n",
        "1 & 1\n",
        "\\end{bmatrix}\n",
        "\\begin{bmatrix}\n",
        "1   & 0\\\\\n",
        "0 & -1\n",
        "\\end{bmatrix} =\n",
        "\\frac{1}{\\sqrt{2}}\n",
        "\\begin{bmatrix}\n",
        "1   & 1\\\\\n",
        "1 & -1\n",
        "\\end{bmatrix}\n",
        "\\end{aligned}\n",
        "$$\n"
      ]
    },
    {
      "cell_type": "markdown",
      "id": "defensive-airfare",
      "metadata": {
        "id": "defensive-airfare"
      },
      "source": [
        "### Ejercicio: Puerta $R_y(\\theta)$\n",
        "\n",
        "Aplica una puerta $R_y(\\theta)$ a 1 cúbit $|0\\rangle$ para obtener un estado con un 30% de probabilidad de medir 0 y un 70% de medir 1\n",
        "- Recuerda que podemos escribir el estado como $|\\psi\\rangle = \\cos{\\tfrac{\\theta}{2}}|0\\rangle + e^{i\\phi}\\sin{\\tfrac{\\theta}{2}}|1\\rangle$\n",
        "- Crea el circuito y simúlalo, comprobando que funciona"
      ]
    },
    {
      "cell_type": "code",
      "execution_count": 25,
      "id": "conscious-jefferson",
      "metadata": {
        "id": "conscious-jefferson",
        "colab": {
          "base_uri": "https://localhost:8080/",
          "height": 679
        },
        "outputId": "f747c459-679d-43cd-f976-c387a65191b6"
      },
      "outputs": [
        {
          "output_type": "stream",
          "name": "stdout",
          "text": [
            "𝜃 = 90\n"
          ]
        },
        {
          "output_type": "display_data",
          "data": {
            "text/plain": [
              "<Figure size 269.064x200.667 with 1 Axes>"
            ],
            "image/png": "[encoded data removed]"
          },
          "metadata": {}
        },
        {
          "output_type": "execute_result",
          "data": {
            "text/plain": [
              "<Figure size 640x480 with 1 Axes>"
            ],
            "image/png": "[encoded data removed]"
          },
          "metadata": {},
          "execution_count": 25
        }
      ],
      "source": [
        "from math import sqrt,acos\n",
        "\n",
        "prob = [0.3, 0.7]\n",
        "\n",
        "qc = QuantumCircuit(1, 1)\n",
        "\n",
        "# Calcula el valor de 𝜃\n",
        "theta = 90 # @param {type:\"raw\"}\n",
        "print(f\"𝜃 = {theta}\")\n",
        "\n",
        "qc.ry(theta, 0)\n",
        "qc.measure(0, 0)\n",
        "display(qc.draw('mpl'))\n",
        "\n",
        "# Hacemos 1024 simulaciones (shots)\n",
        "job_sim = AerSimulator().run(qc, shots=10000)\n",
        "# Obtenemos los resultados\n",
        "result = job_sim.result()\n",
        "# Mostramos el histograma\n",
        "plot_histogram(result.get_counts())"
      ]
    },
    {
      "cell_type": "markdown",
      "id": "figured-pride",
      "metadata": {
        "id": "figured-pride"
      },
      "source": [
        "<a name=\"puertas1c\"></a>\n",
        "## Puertas de 1 cúbit en un sistema multicúbit\n",
        "\n",
        "Igual que en el caso de puertas clásicas, las puertas en paralelo (que actúan sobre dos cúbits diferentes) se combinan usando el producto tensor."
      ]
    },
    {
      "cell_type": "code",
      "execution_count": 23,
      "id": "multiple-portugal",
      "metadata": {
        "id": "multiple-portugal",
        "colab": {
          "base_uri": "https://localhost:8080/",
          "height": 286
        },
        "outputId": "90d9dbc8-e367-4af1-edc5-0b5f89f3b87f"
      },
      "outputs": [
        {
          "output_type": "display_data",
          "data": {
            "text/plain": [
              "<Figure size 203.683x200.667 with 1 Axes>"
            ],
            "image/png": "[encoded data removed]"
          },
          "metadata": {}
        },
        {
          "output_type": "display_data",
          "data": {
            "text/plain": [
              "<IPython.core.display.Latex object>"
            ],
            "text/latex": "$$\nX\\otimes H = \n\\begin{bmatrix}\n0 & 0 & \\frac{\\sqrt{2}}{2} & \\frac{\\sqrt{2}}{2}  \\\\\n 0 & 0 & \\frac{\\sqrt{2}}{2} & - \\frac{\\sqrt{2}}{2}  \\\\\n \\frac{\\sqrt{2}}{2} & \\frac{\\sqrt{2}}{2} & 0 & 0  \\\\\n \\frac{\\sqrt{2}}{2} & - \\frac{\\sqrt{2}}{2} & 0 & 0  \\\\\n \\end{bmatrix}\n$$"
          },
          "metadata": {}
        }
      ],
      "source": [
        "qc = QuantumCircuit(2)\n",
        "qc.h(0)\n",
        "qc.x(1)\n",
        "display(qc.draw('mpl'))\n",
        "obten_unitaria(qc, \"X\\otimes H = \")"
      ]
    },
    {
      "cell_type": "markdown",
      "id": "likely-salvation",
      "metadata": {
        "id": "likely-salvation"
      },
      "source": [
        "El efecto conjunto de ambas puertas puede obtenerse mediante el producto tensor de sus matrices (en el caso de Qiskit el orden es del cúbit más al menos significativo):\n",
        "\n",
        "$$\n",
        "X|q_1\\rangle \\otimes H|q_0\\rangle = (X\\otimes H)|q_1 q_0\\rangle\n",
        "$$\n",
        "\n",
        "Ese producto tensor es:\n",
        "\n",
        "$$\n",
        "\\begin{aligned}\n",
        "X\\otimes H &= \\begin{bmatrix} 0 & 1 \\\\ 1 & 0 \\end{bmatrix} \\otimes \\tfrac{1}{\\sqrt{2}}\\begin{bmatrix} 1 & 1 \\\\ 1 & -1 \\end{bmatrix} = \\frac{1}{\\sqrt{2}}\n",
        "\\begin{bmatrix} 0 \\times \\begin{bmatrix} 1 & 1 \\\\ 1 & -1 \\end{bmatrix}\n",
        "              & 1 \\times \\begin{bmatrix} 1 & 1 \\\\ 1 & -1 \\end{bmatrix}\n",
        "                \\\\\n",
        "                1 \\times \\begin{bmatrix} 1 & 1 \\\\ 1 & -1 \\end{bmatrix}\n",
        "              & 0 \\times \\begin{bmatrix} 1 & 1 \\\\ 1 & -1 \\end{bmatrix}\n",
        "\\end{bmatrix} \\\\\n",
        "&= \\frac{1}{\\sqrt{2}}\n",
        "\\begin{bmatrix} 0 & 0 & 1 & 1 \\\\\n",
        "                0 & 0 & 1 & -1 \\\\\n",
        "                1 & 1 & 0 & 0 \\\\\n",
        "                1 & -1 & 0 & 0 \\\\\n",
        "\\end{bmatrix}\n",
        "\\end{aligned}\n",
        "$$\n",
        "\n",
        "que se multiplica por el vector de 4 filas $|q_1 q_0\\rangle$.\n",
        "\n",
        "La matriz anterior se puede escribir como:\n",
        "\n",
        "$$\n",
        "X\\otimes H =\n",
        "\\begin{bmatrix} 0 & H \\\\\n",
        "               H & 0\\\\\n",
        "\\end{bmatrix}\n",
        "$$\n"
      ]
    },
    {
      "cell_type": "markdown",
      "id": "jewish-tampa",
      "metadata": {
        "id": "jewish-tampa"
      },
      "source": [
        "Si solo tenemos una puerta actuando sobre un cúbit, se considera que sobre la otra actúa la puerta $I$"
      ]
    },
    {
      "cell_type": "code",
      "execution_count": null,
      "id": "thermal-memory",
      "metadata": {
        "id": "thermal-memory"
      },
      "outputs": [],
      "source": [
        "qc = QuantumCircuit(2)\n",
        "qc.x(1)\n",
        "display(qc.draw('mpl'))\n",
        "obten_unitaria(qc,\"X\\otimes I = \")"
      ]
    },
    {
      "cell_type": "markdown",
      "id": "shared-carry",
      "metadata": {
        "id": "shared-carry"
      },
      "source": [
        "En este ejemplo, las puertas aplicadas son:\n",
        "$$\n",
        "X|q_1\\rangle \\otimes I|q_0\\rangle = (X\\otimes I)|q_1 q_0\\rangle\n",
        "$$"
      ]
    },
    {
      "cell_type": "markdown",
      "id": "flexible-windows",
      "metadata": {
        "id": "flexible-windows"
      },
      "source": [
        "Otro ejemplo más complejo:"
      ]
    },
    {
      "cell_type": "code",
      "execution_count": 24,
      "id": "pretty-cleaner",
      "metadata": {
        "id": "pretty-cleaner",
        "colab": {
          "base_uri": "https://localhost:8080/",
          "height": 273
        },
        "outputId": "83f2a4ca-6125-4b19-aaf1-7a60f5b906a5"
      },
      "outputs": [
        {
          "output_type": "display_data",
          "data": {
            "text/plain": [
              "<Figure size 287.294x200.667 with 1 Axes>"
            ],
            "image/png": "[encoded data removed]"
          },
          "metadata": {}
        },
        {
          "output_type": "display_data",
          "data": {
            "text/plain": [
              "<IPython.core.display.Latex object>"
            ],
            "text/latex": "$$\n(H\\otimes I)\\cdot(X\\otimes H) = HX\\otimes IH = \n\\begin{bmatrix}\n\\frac{1}{2} & \\frac{1}{2} & \\frac{1}{2} & \\frac{1}{2}  \\\\\n \\frac{1}{2} & - \\frac{1}{2} & \\frac{1}{2} & - \\frac{1}{2}  \\\\\n - \\frac{1}{2} & - \\frac{1}{2} & \\frac{1}{2} & \\frac{1}{2}  \\\\\n - \\frac{1}{2} & \\frac{1}{2} & \\frac{1}{2} & - \\frac{1}{2}  \\\\\n \\end{bmatrix}\n$$"
          },
          "metadata": {}
        }
      ],
      "source": [
        "# 2 cúbits y 3 puertas\n",
        "qc = QuantumCircuit(2)\n",
        "qc.h(0)\n",
        "qc.x(1)\n",
        "qc.h(1)\n",
        "display(qc.draw('mpl'))\n",
        "obten_unitaria(qc, \"(H\\otimes I)\\cdot(X\\otimes H) = HX\\otimes IH = \")"
      ]
    },
    {
      "cell_type": "markdown",
      "id": "charming-elevation",
      "metadata": {
        "id": "charming-elevation"
      },
      "source": [
        "Si aplicamos esa matriz al estado $|00\\rangle$ tenemos:\n",
        "\n",
        "$$\n",
        "\\frac{1}{2}\\begin{bmatrix}1&1&1&1\\\\1&-1&1&-1\\\\-1&-1&1&1\\\\-1&1&1&-1\\end{bmatrix}\\begin{bmatrix}1\\\\0\\\\0\\\\0\\end{bmatrix} = \\frac{1}{2}\\begin{bmatrix}1\\\\1\\\\-1\\\\-1\\end{bmatrix}\n",
        "$$\n",
        "\n",
        "Este estado es el $|-+\\rangle = |-\\rangle \\otimes |+\\rangle$, ya que tenemos el producto:\n",
        "\n",
        "$$\n",
        "HX|0\\rangle \\otimes H|0\\rangle = H|1\\rangle \\otimes H|0\\rangle = |-\\rangle\\otimes|+\\rangle\n",
        "$$\n",
        "\n",
        "Podemos verificarlo así:\n",
        "$$\n",
        "|-+\\rangle = |-\\rangle\\otimes|+\\rangle = \\tfrac{1}{\\sqrt{2}}\\begin{bmatrix}1\\\\-1\\end{bmatrix}\\otimes\\tfrac{1}{\\sqrt{2}}\\begin{bmatrix}1\\\\1\\end{bmatrix} = \\frac{1}{2}\\begin{bmatrix}1\\\\1\\\\-1\\\\-1\\end{bmatrix}\\\\ = \\frac{1}{2}(|00\\rangle+|01\\rangle-|10\\rangle-|11\\rangle)\n",
        "$$"
      ]
    },
    {
      "cell_type": "markdown",
      "id": "historic-findings",
      "metadata": {
        "id": "historic-findings"
      },
      "source": [
        "\n",
        "\n",
        "---\n",
        "\n",
        "\n",
        "\n",
        "---\n",
        "\n",
        "\n",
        "\n",
        "---\n",
        "\n"
      ]
    },
    {
      "cell_type": "markdown",
      "id": "chicken-indicator",
      "metadata": {
        "id": "chicken-indicator"
      },
      "source": [
        " <a name=\"cnot\"></a>\n",
        "# **Puertas controladas: CNOT**\n",
        "\n",
        "Puerta CNOT: Realiza un NOT (puerta X) en el cúbit objetivo (_target_) si el estado del cúbit de control es $|1\\rangle$. La puerta se representa en un circuito como la del siguiente ejemplo, con `q0` como control y `q1` como target:"
      ]
    },
    {
      "cell_type": "code",
      "execution_count": null,
      "id": "blessed-hepatitis",
      "metadata": {
        "id": "blessed-hepatitis"
      },
      "outputs": [],
      "source": [
        "qc = QuantumCircuit(2)\n",
        "# Aplica CNOT, primer parámetro control, segundo target\n",
        "qc.cx(0,1)\n",
        "display(qc.draw('mpl'))\n",
        "\n",
        "obten_unitaria(qc, \"CNOT = \")"
      ]
    },
    {
      "cell_type": "markdown",
      "id": "southern-vanilla",
      "metadata": {
        "id": "southern-vanilla"
      },
      "source": [
        "Esta matriz intercambia las amplitudes de los estados $|01\\rangle$ y $|11\\rangle$ del vector de estado (aquellos en las que el cúbit `q0` es 1):\n",
        "\n",
        "$$\n",
        "|\\psi\\rangle = \\begin{bmatrix} a_{0} \\\\ a_{1} \\\\ a_{2} \\\\ a_{3} \\end{bmatrix}, \\quad \\text{CNOT}|\\psi\\rangle = \\begin{bmatrix} a_{0} \\\\ a_{3} \\\\ a_{2} \\\\ a_{1} \\end{bmatrix} \\begin{matrix} \\\\ \\leftarrow \\\\ \\\\ \\leftarrow \\end{matrix}\n",
        "$$"
      ]
    },
    {
      "cell_type": "code",
      "source": [
        "qc = QuantumCircuit(2)\n",
        "# Aplica CNOT, primer parámetro control, segundo target\n",
        "qc.cx(1,0)\n",
        "display(qc.draw('mpl'))\n",
        "\n",
        "obten_unitaria(qc, \"CNOT = \")"
      ],
      "metadata": {
        "id": "2sAAAPR1DLNM"
      },
      "id": "2sAAAPR1DLNM",
      "execution_count": null,
      "outputs": []
    },
    {
      "cell_type": "markdown",
      "id": "surface-belfast",
      "metadata": {
        "id": "surface-belfast"
      },
      "source": [
        "<a name=\"bell\"></a>\n",
        "## Creación de estados entrelazados\n",
        "\n",
        "Supongamos una CNOT que usa control un cúbit en estado $|+\\rangle = \\tfrac{1}{\\sqrt{2}}(|0\\rangle + |1\\rangle)$ y como target un cúbit en estado $|0\\rangle$:"
      ]
    },
    {
      "cell_type": "code",
      "execution_count": null,
      "id": "distributed-cruise",
      "metadata": {
        "id": "distributed-cruise"
      },
      "outputs": [],
      "source": [
        "qc = QuantumCircuit(2)\n",
        "qc.h(0)\n",
        "\n",
        "# CNOT: primer parámetro: control, segundo: target\n",
        "qc.cx(0,1)\n",
        "\n",
        "display(qc.draw('mpl'))\n",
        "obten_estado(qc, \"\\\\text{CNOT}|0+\\\\rangle = \")"
      ]
    },
    {
      "cell_type": "markdown",
      "id": "dedicated-emerald",
      "metadata": {
        "id": "dedicated-emerald"
      },
      "source": [
        "El estado obtenido es:\n",
        "$$\n",
        "\\text{CNOT}|0{+}\\rangle = \\tfrac{1}{\\sqrt{2}}\\text{CNOT}(|00\\rangle + |01\\rangle)= \\tfrac{1}{\\sqrt{2}}(\\text{CNOT}|00\\rangle + \\text{CNOT}|01\\rangle) = \\tfrac{1}{\\sqrt{2}}(|00\\rangle + |11\\rangle)\n",
        "$$\n",
        "\n",
        "que es un ejemplo de estado entrelazado, en concreto el **estado 0 de Bell**."
      ]
    },
    {
      "cell_type": "markdown",
      "id": "indie-bangladesh",
      "metadata": {
        "id": "indie-bangladesh"
      },
      "source": [
        "### Estados de Bell\n",
        "\n",
        "Son los siguientes estados entrelazados:\n",
        "\n",
        "$$\n",
        "|\\beta_{00}\\rangle = \\frac{|00\\rangle + |11\\rangle}{\\sqrt{2}}\n",
        "$$\n",
        "$$\n",
        "|\\beta_{01}\\rangle = \\frac{|01\\rangle + |10\\rangle}{\\sqrt{2}}\n",
        "$$\n",
        "$$\n",
        "|\\beta_{10}\\rangle = \\frac{|00\\rangle - |11\\rangle}{\\sqrt{2}}\n",
        "$$\n",
        "$$\n",
        "|\\beta_{11}\\rangle = \\frac{|01\\rangle - |10\\rangle}{\\sqrt{2}}\n",
        "$$\n",
        "\n",
        "Esos estados forman una base del espacio de Hilbert de 2 cúbits.\n",
        "\n",
        "El estado $|\\beta_{00}\\rangle$ se obtiene con el circuito anterior.\n",
        "\n",
        "Para conseguir los estados restantes, se puede utilizar la siguiente expresión general:\n",
        "\n",
        "$$\n",
        "|\\beta_{ij}\\rangle = (I\\otimes X^jZ^i)|\\beta_{00}\\rangle\n",
        "$$"
      ]
    },
    {
      "cell_type": "markdown",
      "id": "confused-south",
      "metadata": {
        "id": "confused-south"
      },
      "source": [
        "### **EJERCICIO ENTREGABLE 1: CREACIÓN DE ESTADOS DE BELL**\n",
        "\n",
        "Obtén circuitos para los tres estados de Bell restantes."
      ]
    },
    {
      "cell_type": "markdown",
      "id": "grateful-stations",
      "metadata": {
        "id": "grateful-stations"
      },
      "source": [
        "**Estado 1 de Bell**"
      ]
    },
    {
      "cell_type": "code",
      "execution_count": null,
      "id": "joint-showcase",
      "metadata": {
        "id": "joint-showcase"
      },
      "outputs": [],
      "source": [
        "# |𝛽_01⟩=(𝐼⊗𝑋¹𝑍⁰)|𝛽_00⟩ = (𝐼⊗𝑋)|𝛽_00⟩\n",
        "qc = QuantumCircuit(2)\n",
        "\n",
        "# Aplica las puertas para obtener |𝛽_00⟩\n",
        "qc....\n",
        "qc....\n",
        "\n",
        "# Aplica la puerta X al cúbit que corrresponda\n",
        "qc.x()\n",
        "\n",
        "display(qc.draw('mpl'))\n",
        "\n",
        "obten_estado(qc, \"|\\\\beta_{01}\\\\rangle = \")"
      ]
    },
    {
      "cell_type": "markdown",
      "id": "tamil-stack",
      "metadata": {
        "id": "tamil-stack"
      },
      "source": [
        "**Estado 2 de Bell**"
      ]
    },
    {
      "cell_type": "code",
      "execution_count": null,
      "id": "recent-aberdeen",
      "metadata": {
        "id": "recent-aberdeen"
      },
      "outputs": [],
      "source": [
        "# |𝛽_01⟩=(𝐼⊗𝑋⁰𝑍¹)|𝛽_00⟩ = (𝐼⊗𝑍)|𝛽_00⟩\n",
        "qc = QuantumCircuit(2)\n",
        "\n",
        "# Aplica las puertas para obtener |𝛽_00⟩\n",
        "qc...\n",
        "qc...\n",
        "\n",
        "# Aplica la otra puerta\n",
        "qc....\n",
        "\n",
        "display(qc.draw('mpl'))\n",
        "\n",
        "obten_estado(qc, \"|\\\\beta_{10}\\\\rangle = \")"
      ]
    },
    {
      "cell_type": "markdown",
      "id": "respective-address",
      "metadata": {
        "id": "respective-address"
      },
      "source": [
        "**Estado 3 de Bell**"
      ]
    },
    {
      "cell_type": "code",
      "execution_count": null,
      "id": "under-south",
      "metadata": {
        "id": "under-south"
      },
      "outputs": [],
      "source": [
        "# |𝛽_01⟩=(𝐼⊗𝑋¹𝑍¹)|𝛽_00⟩ = (𝐼⊗𝑋𝑍)|𝛽_00⟩\n",
        "qc = QuantumCircuit(2)\n",
        "\n",
        "\n",
        "# Aplica las puertas para obtener |𝛽_00⟩\n",
        "qc...\n",
        "qc...\n",
        "\n",
        "# Aplica las otras puertas\n",
        "qc....\n",
        "qc....\n",
        "\n",
        "display(qc.draw('mpl'))\n",
        "\n",
        "obten_estado(qc, \"|\\\\beta_{10}\\\\rangle = \")"
      ]
    },
    {
      "cell_type": "markdown",
      "id": "monetary-newcastle",
      "metadata": {
        "id": "monetary-newcastle"
      },
      "source": [
        "### Estados entrelazados de más cúbits\n",
        "\n",
        "Los estados entrelazados de más de 2 cúbits se denominan [estados _GHZ_](https://en.wikipedia.org/wiki/Greenberger%E2%80%93Horne%E2%80%93Zeilinger_state)\n",
        "\n",
        "Uno de estos estados para 3 cúbits es:\n",
        "\n",
        "$$\n",
        "|GHZ\\rangle = \\frac{|000\\rangle+|111\\rangle}{\\sqrt{2}}\n",
        "$$\n",
        "\n",
        "y se puede obtener con el siguiente circuito:"
      ]
    },
    {
      "cell_type": "code",
      "execution_count": null,
      "id": "technological-boating",
      "metadata": {
        "id": "technological-boating"
      },
      "outputs": [],
      "source": [
        "qc = QuantumCircuit(3)\n",
        "qc.h(0)\n",
        "qc.cx(0,1)\n",
        "qc.cx(1,2)\n",
        "display(qc.draw('mpl'))\n",
        "\n",
        "obten_estado(qc, \"|GHZ\\\\rangle = \")"
      ]
    },
    {
      "cell_type": "code",
      "source": [
        "# Generalizamos para n qubits\n",
        "# Definimos una función que devuelve el circuito\n",
        "def get_qc_for_n_qubit_GHZ(n):\n",
        "    qc = QuantumCircuit(n)\n",
        "    qc.h(0)\n",
        "    for i in range(n-1):\n",
        "        qc.cx(i,i+1)\n",
        "    return(qc)\n",
        "\n",
        "n = 4\n",
        "qc = get_qc_for_n_qubit_GHZ(n)\n",
        "display(qc.draw('mpl'))\n",
        "obten_estado(qc, \"|GHZ\\\\rangle_n = \")"
      ],
      "metadata": {
        "id": "SmAvQJ420x0y"
      },
      "id": "SmAvQJ420x0y",
      "execution_count": null,
      "outputs": []
    },
    {
      "cell_type": "markdown",
      "id": "cordless-explorer",
      "metadata": {
        "id": "cordless-explorer"
      },
      "source": [
        "## Otras puertas controladas <a id=\"otrasp\"></a>\n",
        "\n",
        "La puerta CNOT se llama también controlled-X. Esa misma idea se puede aplicar a cualquier otra puerta $U$. La matrix de una operación controlled-U es, suponiendo $q_0$ el cúbit más significativo:\n",
        "\n",
        "$$\n",
        "\\begin{aligned}\n",
        "\\text{U} & =\n",
        "\\begin{bmatrix}\n",
        "u_{00} & u_{01} \\\\\n",
        "u_{10} & u_{11}\\\\\n",
        "\\end{bmatrix} \\\\\n",
        "\\quad & \\\\\n",
        "\\text{Controlled-U} & =\n",
        "\\begin{bmatrix}\n",
        "I & 0 \\\\\n",
        "0 & U\\\\\n",
        "\\end{bmatrix}\n",
        " =\n",
        "\\begin{bmatrix}\n",
        "1 & 0 & 0 & 0 \\\\\n",
        "0 & 1 & 0 & 0 \\\\\n",
        "0 & 0 & u_{00} & u_{01} \\\\\n",
        "0 & 0 & u_{10} & u_{11}\\\\\n",
        "\\end{bmatrix}\n",
        "\\end{aligned}\n",
        "$$\n",
        "\n",
        "O suponiendo $q_0$ el cúbit menos significativo (orden usado en Qiskit)\n",
        "\n",
        "$$\n",
        "\\text{Controlled-U} =  \n",
        "\\begin{bmatrix}\n",
        "1 & 0 & 0 & 0 \\\\\n",
        "0 & u_{00} & 0 & u_{01} \\\\\n",
        "0 & 0 & 1 & 0 \\\\\n",
        "0 & u_{10} & 0 & u_{11}\\\\\n",
        "\\end{bmatrix}\n",
        "$$"
      ]
    },
    {
      "cell_type": "markdown",
      "id": "tracked-terror",
      "metadata": {
        "id": "tracked-terror"
      },
      "source": [
        "**Ejemplo**: Puerta Y controlada"
      ]
    },
    {
      "cell_type": "code",
      "execution_count": null,
      "id": "heavy-stanford",
      "metadata": {
        "id": "heavy-stanford"
      },
      "outputs": [],
      "source": [
        "c = 0\n",
        "t = 1\n",
        "qc = QuantumCircuit(2)\n",
        "qc.cy(c, t)\n",
        "display(qc.draw('mpl'))\n",
        "\n",
        "obten_unitaria(qc, \"\\\\text{Controlled-Y} = \\n\")"
      ]
    },
    {
      "cell_type": "markdown",
      "id": "subtle-newfoundland",
      "metadata": {
        "id": "subtle-newfoundland"
      },
      "source": [
        "**Ejemplo**: Puerta H controlada"
      ]
    },
    {
      "cell_type": "code",
      "execution_count": null,
      "id": "flexible-magnet",
      "metadata": {
        "id": "flexible-magnet"
      },
      "outputs": [],
      "source": [
        "qc = QuantumCircuit(2)\n",
        "qc.ch(c, t)\n",
        "display(qc.draw('mpl'))\n",
        "\n",
        "obten_unitaria(qc, \"\\\\text{Controlled-H} = \\n\")"
      ]
    },
    {
      "cell_type": "markdown",
      "source": [
        "<a name=\"kick\"></a>\n",
        "## Phase-kickback\n",
        "\n",
        "Un efecto interesante se ve cuando se usan rotaciones controladas.\n",
        "\n",
        "Por ejemplo, si aplicamos una puerta $Z$ a un cúbit en estado simple ($|0\\rangle$ o $|1\\rangle$), no produce ningún efecto:\n",
        "\n",
        "$$\n",
        "Z|0\\rangle =\n",
        "\\begin{bmatrix}1 & 0 \\\\ 0 & -1 \\end{bmatrix}\n",
        "\\begin{bmatrix}1 \\\\ 0\\end{bmatrix} =\n",
        "\\begin{bmatrix}1 \\\\ 0\\end{bmatrix}\n",
        "= |0\\rangle\n",
        "$$\n",
        "\n",
        "$$\n",
        "Z|1\\rangle =\n",
        "\\begin{bmatrix}1 & 0 \\\\ 0 & -1 \\end{bmatrix}\n",
        "\\begin{bmatrix}0 \\\\ 1\\end{bmatrix} =\n",
        "\\begin{bmatrix}0 \\\\ -1\\end{bmatrix}\n",
        "= -|1\\rangle = |1\\rangle\n",
        "$$\n",
        "\n",
        "En el segundo caso, el $-$ es una _fase global_, que no es observable.\n",
        "\n",
        "Pero si aplicamos una $Z$ controlada por un cúbit en estado $|{+}\\rangle$ teniendo como target un cúbit en estado $|1\\rangle$ se produce un cambio de _fase relativa_ en el cúbit de control.\n",
        "\n",
        "Así, si $q_0=|+\\rangle$ y $q_1=|1\\rangle$,  y aplicamos una `C-Z` al estado $|1{+}\\rangle$ tenemos:\n",
        "\n",
        "$$\n",
        "\\begin{aligned}\n",
        "|1{+}\\rangle & = |1\\rangle \\otimes \\tfrac{1}{\\sqrt{2}}(|0\\rangle + |1\\rangle) \\\\\n",
        "& = \\tfrac{1}{\\sqrt{2}}(|10\\rangle + |11\\rangle) \\\\\n",
        "& \\\\\n",
        "\\text{C-Z}|1{+}\\rangle & = \\tfrac{1}{\\sqrt{2}}(\\text{C-Z}|10\\rangle + \\text{C-Z}|11\\rangle) \\\\\n",
        "& = \\tfrac{1}{\\sqrt{2}}(|10\\rangle + Z|1\\rangle\\otimes |1\\rangle) \\\\\n",
        "& = \\tfrac{1}{\\sqrt{2}}(|10\\rangle - |11\\rangle) \\\\\n",
        "& = |1\\rangle \\otimes \\tfrac{1}{\\sqrt{2}}(|0\\rangle - |1\\rangle) = |1{-}\\rangle\n",
        "\\end{aligned}\n",
        "$$\n",
        "\n",
        "Es decir, el cúbit $q_1$ se queda como está mientras que el $q_0$ rota $\\pi$ en torno al eje z.  Este efecto se conoce como _phase-quickback_"
      ],
      "metadata": {
        "id": "YDTPtG39Dqbw"
      },
      "id": "YDTPtG39Dqbw"
    },
    {
      "cell_type": "code",
      "source": [
        "# Cúbit de control\n",
        "c = 0\n",
        "# Cúbit target\n",
        "t = 1\n",
        "qc=QuantumCircuit(2)\n",
        "qc.h(c)\n",
        "qc.x(t)\n",
        "qc.cz(c,t)\n",
        "display(qc.draw('mpl'))\n",
        "\n",
        "obten_estado(qc, \"(X\\otimes H)|00\\\\rangle = \")"
      ],
      "metadata": {
        "id": "t1LEMkdwFLif"
      },
      "id": "t1LEMkdwFLif",
      "execution_count": null,
      "outputs": []
    },
    {
      "cell_type": "markdown",
      "id": "appropriate-phoenix",
      "metadata": {
        "id": "appropriate-phoenix"
      },
      "source": [
        "El efecto es idéntico si se intercambian los bits de control y target"
      ]
    },
    {
      "cell_type": "code",
      "execution_count": null,
      "id": "subsequent-cyprus",
      "metadata": {
        "id": "subsequent-cyprus"
      },
      "outputs": [],
      "source": [
        "qc=QuantumCircuit(2)\n",
        "qc.h(c)\n",
        "qc.x(t)\n",
        "\n",
        "# Intercambio el papel de control y target\n",
        "qc.cz(t,c)\n",
        "display(qc.draw('mpl'))\n",
        "\n",
        "obten_estado(qc, \"(X\\otimes H)|00\\\\rangle = \")"
      ]
    },
    {
      "cell_type": "markdown",
      "id": "005ef991",
      "metadata": {
        "id": "005ef991"
      },
      "source": [
        "### **EJERCICIO ENTREGABLE 2: Controlled-Z**\n",
        "\n",
        "Crea un circuito que obtenga el siguiente estado:\n",
        "\n",
        "$$\n",
        "|\\psi\\rangle = \\frac{1}{2}(|00\\rangle+|01\\rangle-|10\\rangle+|11\\rangle)\n",
        "$$"
      ]
    },
    {
      "cell_type": "code",
      "execution_count": null,
      "id": "f85b2874",
      "metadata": {
        "id": "f85b2874"
      },
      "outputs": [],
      "source": [
        "n = 2\n",
        "qc = QuantumCircuit(n)\n",
        "\n",
        "# Pon los cúbits en superposición\n",
        "# para obtener el estado |𝜓⟩=1/2(|00⟩+|01⟩+|10⟩+|11⟩)\n",
        "qc....\n",
        "\n",
        "# La puerta C-Z cambia el signo del estado |11>\n",
        "# Aplicamos la puerta C-Z para obtener\n",
        "# el estado |𝜓⟩=1/2(|00⟩+|01⟩+|10⟩-|11⟩)\n",
        "qc....\n",
        "\n",
        "# Aplicamos una puerta a q0 y para obtener\n",
        "# |𝜓⟩=1/2(|01⟩+|00⟩+|11⟩-|10⟩)\n",
        "qc....\n",
        "\n",
        "display(qc.draw('mpl'))\n",
        "\n",
        "obten_estado(qc, \"|\\psi\\\\rangle = \")"
      ]
    },
    {
      "cell_type": "markdown",
      "id": "willing-major",
      "metadata": {
        "id": "willing-major"
      },
      "source": [
        "\n",
        "---\n",
        "\n",
        "\n",
        "\n",
        "---\n",
        "\n",
        "\n",
        "\n",
        "---\n",
        "\n"
      ]
    },
    {
      "cell_type": "markdown",
      "id": "portuguese-boost",
      "metadata": {
        "id": "portuguese-boost"
      },
      "source": [
        "<a name=\"otras\"></a>\n",
        "# **Otras puertas**"
      ]
    },
    {
      "cell_type": "markdown",
      "id": "fifth-china",
      "metadata": {
        "id": "fifth-china"
      },
      "source": [
        "<a name=\"swap\"></a>\n",
        "## Puerta swap\n",
        "\n",
        "Intercambia dos cúbits"
      ]
    },
    {
      "cell_type": "code",
      "execution_count": null,
      "id": "infectious-royal",
      "metadata": {
        "id": "infectious-royal"
      },
      "outputs": [],
      "source": [
        "qc = QuantumCircuit(2)\n",
        "qc.x(1)\n",
        "qc.swap(0,1)\n",
        "display(qc.draw('mpl'))\n",
        "\n",
        "obten_estado(qc, \"\\\\text{SWAP}|10\\\\rangle = \\n\")"
      ]
    },
    {
      "cell_type": "markdown",
      "source": [
        "<a name=\"multiples\"></a>\n",
        "## Puertas para múltiples cúbits\n",
        "\n",
        "El vector de estado de un sistema de n cúbits puede escribirse como:\n",
        "\n",
        "$$\n",
        "|\\psi\\rangle = \\sum_{i=0}^{2^n-1} a_i|i\\rangle\n",
        "$$\n",
        "donde $a_i \\in \\mathbb{C}$ y $\\sum_{i=0}^{2^n-1}|a_i|^2 = 1$.bold text"
      ],
      "metadata": {
        "id": "4EvKQ6LzMn6N"
      },
      "id": "4EvKQ6LzMn6N"
    },
    {
      "cell_type": "markdown",
      "id": "talented-upgrade",
      "metadata": {
        "id": "talented-upgrade"
      },
      "source": [
        "### Puerta _Walsh-Hadamard_<a id=\"wh\"></a>\n",
        "\n",
        "El uso de puertas `H` permite poner los n-cúbits en un estado de superposición.\n",
        "\n",
        "El estado de _superposición completa_ es:\n",
        "\n",
        "$$\n",
        "|+\\rangle^{\\otimes n} = H^{\\otimes n}|0\\rangle^{\\otimes n}\n",
        "$$\n",
        "\n",
        "$H^{\\otimes n}$ se conoce como puerta _Walsh-Hadamard_.\n",
        "\n",
        "Ejemplo para 4 cúbits:\n",
        "\n",
        "$$\n",
        "H^{\\otimes 4}|1010\\rangle = H|1\\rangle\\otimes H|0\\rangle\\otimes H|1\\rangle\\otimes H|0\\rangle = \\\\\n",
        "\\frac{1}{4}\\left[(|0\\rangle - |1\\rangle)\\otimes (|0\\rangle + |1\\rangle) \\otimes (|0\\rangle - |1\\rangle) \\otimes (|0\\rangle + |1\\rangle)\\right] = \\frac{1}{4}\\left[\\\\\n",
        "|0000\\rangle+|0001\\rangle-|0010\\rangle-|0011\\rangle+\\\\\n",
        "|0100\\rangle+|0101\\rangle-|0110\\rangle-|0111\\rangle-\\\\\n",
        "|1000\\rangle-|1001\\rangle+|1010\\rangle+|1011\\rangle-\\\\\n",
        "|1100\\rangle-|1101\\rangle+|1110\\rangle+|1111\\rangle\\phantom{-}\\right]\n",
        "$$\n",
        "\n",
        "En este ejemplo, el signo negativo aparece en los estados $|x_3x_2x_1x_0\\rangle$ para los que se verifica que:\n",
        "    \n",
        "$$\n",
        "(x_3x_2x_1x_0)\\cdot(1010) = x_3\\cdot 1\\oplus x_2\\cdot 0 \\oplus x_1\\cdot 1 \\oplus x_0\\cdot 0 = x_3\\cdot x_1 = 1\n",
        "$$\n",
        "\n",
        "que son los estados para los que $x_3 \\ne x_1$.\n",
        "    \n",
        "En general, para un estado $|x\\rangle = |x_{n-1}x_{n-2}\\ldots x_0\\rangle$ de n-cúbits, se puede escribir:\n",
        "\n",
        "$$\n",
        "H^{\\otimes n}|x\\rangle = \\frac{1}{\\sqrt{2^n}} \\sum_{i=0}^{2^n-1} (-1)^{x\\cdot i}|i\\rangle\n",
        "$$\n",
        "\n",
        "siendo $x\\cdot i = x_{n-1}i_{n-1}\\oplus x_{n-2}i_{n-2}\\oplus \\ldots \\oplus x_0i_0$\n"
      ]
    },
    {
      "cell_type": "code",
      "execution_count": null,
      "id": "capital-recognition",
      "metadata": {
        "id": "capital-recognition"
      },
      "outputs": [],
      "source": [
        "n = 4\n",
        "qc=QuantumCircuit(n)\n",
        "qc.x(1)\n",
        "qc.x(3)\n",
        "qc.barrier()\n",
        "for i in range(n):\n",
        "    qc.h(i)\n",
        "\n",
        "display(qc.draw('mpl'))\n",
        "\n",
        "obten_estado(qc, \"|\\psi\\\\rangle = \")"
      ]
    },
    {
      "cell_type": "markdown",
      "id": "rental-sacramento",
      "metadata": {
        "id": "rental-sacramento"
      },
      "source": [
        "### Puerta Toffoli (Controlled-Controlled-NOT o CCX)<a id=\"toffoli\"></a>\n",
        "\n",
        "La puerta Toffoli es una puerta de tres qubits con dos controles y un target. Realiza una X en el target sólo si ambos controles están en el estado $|1\\rangle$. Permite implementar un AND o NAND de los controles."
      ]
    },
    {
      "cell_type": "code",
      "execution_count": null,
      "id": "shared-solid",
      "metadata": {
        "id": "shared-solid"
      },
      "outputs": [],
      "source": [
        "qc = QuantumCircuit(3)\n",
        "a = 0\n",
        "b = 1\n",
        "t = 2\n",
        "# Toffoli con bits de control a y b y target t\n",
        "qc.ccx(a,b,t)\n",
        "qc.draw('mpl')"
      ]
    },
    {
      "cell_type": "markdown",
      "id": "enclosed-roommate",
      "metadata": {
        "id": "enclosed-roommate"
      },
      "source": [
        "Si el estado inicial del target es |0⟩, su estado final será un AND de ambos controles. Si el estado inicial del target es |1⟩, su estado final será un NAND de ambos controles."
      ]
    },
    {
      "cell_type": "markdown",
      "id": "controlling-spectrum",
      "metadata": {
        "id": "controlling-spectrum"
      },
      "source": [
        "### Puertas controladas genéricas<a id=\"genericas\"></a>\n",
        "\n",
        "En general, se puede pensar en puertas $U$ que actúan sobre $k$ cúbits y que son controladas por $n$ cúbits:\n",
        "\n",
        "<center><img src=\"https://drive.google.com/uc?export=view&id=1N0OgtidrJdounWS0ybEkgWwHo_CVIw32\" alt=\"Puerta controlada genérica\" width=\"300\"  /></center>"
      ]
    },
    {
      "cell_type": "code",
      "source": [
        "# Ejemplo: puerta MCMT en Qiskit\n",
        "from qiskit.circuit.library import MCMT\n",
        "n = 5\n",
        "qc = QuantumCircuit(n)\n",
        "qc = qc.compose(MCMT('z',n-2,2))\n",
        "qc.draw('mpl')"
      ],
      "metadata": {
        "id": "P2fZ6ey8eE7y"
      },
      "id": "P2fZ6ey8eE7y",
      "execution_count": null,
      "outputs": []
    },
    {
      "cell_type": "markdown",
      "source": [
        "------------------\n",
        "\n",
        "--------------------\n",
        "\n",
        "-------------------\n"
      ],
      "metadata": {
        "id": "7PQuiSDg1_lz"
      },
      "id": "7PQuiSDg1_lz"
    },
    {
      "cell_type": "markdown",
      "source": [
        "# **Uso de un computador real de IBM**\n",
        "\n",
        "\n",
        "\n",
        "\n"
      ],
      "metadata": {
        "id": "KVi-9RnF2CeO"
      },
      "id": "KVi-9RnF2CeO"
    },
    {
      "cell_type": "markdown",
      "source": [
        "Tenemos que iniciar nuestra cuenta en IBM. Para ello, hay que ir a [https://quantum.ibm.com/](https://quantum.ibm.com/) y darse de alta (si no tienes aún cuenta). Una vez accedes, arriba a la derecna aparece un API Token que tienes que copiar y poner en el código que sigue:"
      ],
      "metadata": {
        "id": "8EIFBonl3ZPb"
      },
      "id": "8EIFBonl3ZPb"
    },
    {
      "cell_type": "code",
      "source": [
        "from qiskit_ibm_runtime import QiskitRuntimeService\n",
        "\n",
        "token=\"TOKEN\"\n",
        "\n",
        "QiskitRuntimeService.save_account(channel=\"ibm_quantum\", token=token)"
      ],
      "metadata": {
        "id": "ogEWw-yO2Bm0"
      },
      "id": "ogEWw-yO2Bm0",
      "execution_count": null,
      "outputs": []
    },
    {
      "cell_type": "markdown",
      "source": [
        "### **Primitivas**\n",
        "\n",
        "Qiskit v1 introdujo el concepto de [Primitivas](https://docs.quantum.ibm.com/api/qiskit/primitives). Se recomienda su uso en aplicaciones grandes y serán el único modo de acceso a los sistemas de IBM en la nube.\n",
        "\n",
        "Dos tipos de primitivas:\n",
        "\n",
        "- **Sampler**: Permite ejecutar circuitos cuánticos y obtener muestras de los resultados.\n",
        "- **Estimator**: Se utiliza para estimar valores esperados de observables en estados cuánticos.\n",
        "\n",
        "Estas primitivas se pueden usar con sistemas reales o con simulación (Aer)."
      ],
      "metadata": {
        "id": "bBO2UuMEUvhn"
      },
      "id": "bBO2UuMEUvhn"
    },
    {
      "cell_type": "markdown",
      "source": [
        "## **Creamos y simulamos el circuito**"
      ],
      "metadata": {
        "id": "DjEL4LDKIpg8"
      },
      "id": "DjEL4LDKIpg8"
    },
    {
      "cell_type": "code",
      "source": [
        "# Generalizamos para n qubits\n",
        "# Definimos una función que devuelve el circuito\n",
        "def get_qc_for_n_qubit_GHZ(n):\n",
        "    qc = QuantumCircuit(n,n)\n",
        "    qc.h(0)\n",
        "    for i in range(n-1):\n",
        "        qc.cx(i,i+1)\n",
        "    qc.measure(range(n),range(n))\n",
        "    return(qc)\n",
        "\n",
        "# Lista de circuitos a evaluar (2, 4, 6 y 8 cubits)\n",
        "qc_ghz_list = list()\n",
        "for n in range(2,10,2):\n",
        "  qc_ghz_list.append(get_qc_for_n_qubit_GHZ(n))\n"
      ],
      "metadata": {
        "id": "x0Qr4lYC4yig"
      },
      "id": "x0Qr4lYC4yig",
      "execution_count": null,
      "outputs": []
    },
    {
      "cell_type": "markdown",
      "source": [
        "#### Simulamos usando primitivas y Aer"
      ],
      "metadata": {
        "id": "TCkuQJTkWrnD"
      },
      "id": "TCkuQJTkWrnD"
    },
    {
      "cell_type": "code",
      "source": [
        "# Simulamos usando la primitiva Sampler Aer\n",
        "from qiskit_aer.primitives import SamplerV2 as Sampler\n",
        "\n",
        "sampler = Sampler()\n",
        "\n",
        "# Hay que pasar una lista de circuitos a evaluar\n",
        "job = sampler.run(qc_ghz_list, shots=1024)"
      ],
      "metadata": {
        "id": "VjBdaAVwH6bT"
      },
      "id": "VjBdaAVwH6bT",
      "execution_count": null,
      "outputs": []
    },
    {
      "cell_type": "code",
      "source": [
        "from qiskit.visualization import plot_histogram\n",
        "\n",
        "for c in range(len(qc_ghz_list)):\n",
        "  muestras = job.result()[c].data.c.get_counts()\n",
        "  display(plot_histogram(muestras))"
      ],
      "metadata": {
        "id": "0TfHMvq_IOOi"
      },
      "id": "0TfHMvq_IOOi",
      "execution_count": null,
      "outputs": []
    },
    {
      "cell_type": "markdown",
      "source": [
        "### Simulamos usando un FakeProvider\n",
        "\n",
        "Los [FakeProviders](https://docs.quantum.ibm.com/api/qiskit-ibm-runtime/fake_provider) (o FakeBackends) imitan los comportamientos de los sistemas IBM Quantum mediante el uso de instantáneas los mismos.\n",
        "\n",
        "Para poder ejecutar en este provider (igual que en un equipo real), hay que [transpilar](https://docs.quantum.ibm.com/transpile) el circuito a la topología concreta del backend en el que se va a ejecutar. Se puede hacer con el método transpile() que venimos usando,  pero se recomienda usar [Preset Passmanagers](https://docs.quantum.ibm.com/api/qiskit/transpiler_preset) que permite especificar más opciones."
      ],
      "metadata": {
        "id": "peYbWVE7Wxhg"
      },
      "id": "peYbWVE7Wxhg"
    },
    {
      "cell_type": "code",
      "source": [
        "# Simulamos usando un FakeProvider\n",
        "from qiskit_ibm_runtime import SamplerV2 as Sampler\n",
        "from qiskit_ibm_runtime.fake_provider import FakeOsaka\n",
        "from qiskit.transpiler.preset_passmanagers import generate_preset_pass_manager\n",
        "\n",
        "fake_backend = FakeOsaka()\n",
        "\n",
        "# Creamos el Pass manager para ese backend\n",
        "pass_manager = generate_preset_pass_manager(backend=fake_backend, optimization_level=1)\n",
        "\n",
        "# Optimiza el circuito usando el pass manager\n",
        "qc_ghz_optimizado_list = pass_manager.run(qc_ghz_list)\n",
        "\n",
        "# Mostramos el circuito original y el optimizado para 4 cúbits\n",
        "print(\"CIRCUITO ORIGINAL 4 CUBITS\")\n",
        "display(qc_ghz_list[1].draw(\"mpl\", idle_wires=False))\n",
        "print(\"CIRCUITO OPTIMIZADO 4 CUBITS PARA FakeOsaka\")\n",
        "display(qc_ghz_optimizado_list[1].draw(\"mpl\", idle_wires=False))"
      ],
      "metadata": {
        "id": "sXzZxlgBWjvF"
      },
      "id": "sXzZxlgBWjvF",
      "execution_count": null,
      "outputs": []
    },
    {
      "cell_type": "code",
      "source": [
        "# Ejecutamos\n",
        "sampler = Sampler(mode=fake_backend)\n",
        "job = sampler.run(qc_ghz_optimizado_list, shots=1024)\n",
        "result = job.result()"
      ],
      "metadata": {
        "id": "9SD-QriAX-HJ"
      },
      "id": "9SD-QriAX-HJ",
      "execution_count": null,
      "outputs": []
    },
    {
      "cell_type": "code",
      "source": [
        "from qiskit.visualization import plot_histogram\n",
        "\n",
        "for c in range(len(qc_ghz_list)):\n",
        "  muestras = result[c].data.c.get_counts()\n",
        "  display(plot_histogram(muestras, figsize=(18,5)))"
      ],
      "metadata": {
        "id": "RYhNhI_CYoYW"
      },
      "id": "RYhNhI_CYoYW",
      "execution_count": null,
      "outputs": []
    },
    {
      "cell_type": "markdown",
      "source": [
        "### Ejecutamos en un sistema real\n",
        "\n",
        "Empezamos mirando los sistemas disponibles y seleccionando el menos ocupado."
      ],
      "metadata": {
        "id": "OaWzCuCxI6DA"
      },
      "id": "OaWzCuCxI6DA"
    },
    {
      "cell_type": "code",
      "source": [
        "from qiskit_ibm_runtime import QiskitRuntimeService\n",
        "\n",
        "service = QiskitRuntimeService()\n",
        "print('Sistemas disponibles ', service.backends())"
      ],
      "metadata": {
        "id": "oJl52bJd22Su"
      },
      "id": "oJl52bJd22Su",
      "execution_count": null,
      "outputs": []
    },
    {
      "cell_type": "code",
      "source": [
        "backend_mas_libre = service.least_busy(operational=True, simulator=False)\n",
        "print(backend_mas_libre)"
      ],
      "metadata": {
        "id": "i-tQkApq343K"
      },
      "id": "i-tQkApq343K",
      "execution_count": null,
      "outputs": []
    },
    {
      "cell_type": "code",
      "source": [
        "from qiskit.transpiler.preset_passmanagers import generate_preset_pass_manager\n",
        "# Creamos el Pass manager para ese backend\n",
        "pass_manager = generate_preset_pass_manager(optimization_level=1, backend=backend_mas_libre)\n",
        "\n",
        "# Optimiza el circuito usando el pass manager\n",
        "qc_ghz_optimizado_list = pass_manager.run(qc_ghz_list)\n",
        "\n",
        "print(f\"CIRCUITO OPTIMIZADO 4 CUBITS PARA {backend_mas_libre}\")\n",
        "display(qc_ghz_optimizado_list[1].draw(\"mpl\", idle_wires=False))"
      ],
      "metadata": {
        "id": "ZJxBdyFw55Zi"
      },
      "id": "ZJxBdyFw55Zi",
      "execution_count": null,
      "outputs": []
    },
    {
      "cell_type": "code",
      "source": [
        "# Ejecútalo en el backend y toma muestras de la salida\n",
        "from qiskit_ibm_runtime import SamplerV2 as Sampler\n",
        "\n",
        "sampler = Sampler(mode=backend_mas_libre)\n",
        "\n",
        "job = sampler.run(qc_ghz_optimizado_list)\n",
        "\n",
        "print(job.job_id())"
      ],
      "metadata": {
        "id": "GMQzJCZ_6cML"
      },
      "id": "GMQzJCZ_6cML",
      "execution_count": null,
      "outputs": []
    },
    {
      "cell_type": "code",
      "source": [
        "from time import sleep\n",
        "job_id = \"ct6fnm6qsez00089qdr0\"\n",
        "\n",
        "job = service.job(job_id)\n",
        "while not job.done():\n",
        "  sleep(100)\n",
        "\n",
        "result = job.result()"
      ],
      "metadata": {
        "id": "zYhdrBba6wsF"
      },
      "id": "zYhdrBba6wsF",
      "execution_count": null,
      "outputs": []
    },
    {
      "cell_type": "code",
      "source": [
        "from qiskit.visualization import plot_histogram\n",
        "for c in range(len(qc_ghz_list)):\n",
        "  muestras = result[c].data.c.get_counts()\n",
        "  display(plot_histogram(muestras, figsize=(18,5)))\n",
        "\n",
        "#muestras = job.result()[0].data.c.get_counts()\n",
        "#plot_histogram(muestras)"
      ],
      "metadata": {
        "id": "AvZOIMwi9E9M"
      },
      "id": "AvZOIMwi9E9M",
      "execution_count": null,
      "outputs": []
    },
    {
      "cell_type": "code",
      "source": [],
      "metadata": {
        "id": "uRxbvxUlJhaZ"
      },
      "id": "uRxbvxUlJhaZ",
      "execution_count": null,
      "outputs": []
    }
  ],
  "metadata": {
    "kernelspec": {
      "display_name": "Python 3",
      "name": "python3"
    },
    "language_info": {
      "codemirror_mode": {
        "name": "ipython",
        "version": 3
      },
      "file_extension": ".py",
      "mimetype": "text/x-python",
      "name": "python",
      "nbconvert_exporter": "python",
      "pygments_lexer": "ipython3",
      "version": "3.10.10"
    },
    "colab": {
      "provenance": [],
      "cell_execution_strategy": "setup",
      "include_colab_link": true
    }
  },
  "nbformat": 4,
  "nbformat_minor": 5
}